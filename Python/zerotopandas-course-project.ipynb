{
 "cells": [
  {
   "cell_type": "markdown",
   "metadata": {},
   "source": [
    "# Project Title - Spotify Dataset EDA\n",
    "\n",
    "This dataset contains a comprehensive list of the most famous songs of 2023 as listed on Spotify. The dataset offers a wealth of features beyond what is typically available in similar datasets. It provides insights into each song's attributes, popularity, and presence on various music platforms. The dataset includes information such as track name, artist(s) name, release date, Spotify playlists and charts, streaming statistics, Apple Music presence, Deezer presence, Shazam charts, and various audio features.\n",
    "We are going to use this dataset for EDA and discover the change in trends of music"
   ]
  },
  {
   "cell_type": "markdown",
   "metadata": {},
   "source": [
    "## Downloading the Dataset\n",
    "\n",
    " I have downloaded the dataset on my local computer and exported here using the jupyter's GUI"
   ]
  },
  {
   "cell_type": "code",
   "execution_count": 1,
   "metadata": {},
   "outputs": [],
   "source": [
    "import pandas as pd\n",
    "import pandas as pd\n",
    "import numpy as np\n",
    "\n",
    "import matplotlib.pyplot as plt\n",
    "import seaborn as sns"
   ]
  },
  {
   "cell_type": "code",
   "execution_count": 2,
   "metadata": {},
   "outputs": [],
   "source": [
    "!pip install jovian opendatasets --upgrade --quiet"
   ]
  },
  {
   "cell_type": "markdown",
   "metadata": {},
   "source": [
    "Let's begin by downloading the data, and listing the files within the dataset."
   ]
  },
  {
   "cell_type": "code",
   "execution_count": 3,
   "metadata": {},
   "outputs": [],
   "source": [
    "# Change this\n",
    "data_dir = './spotify-2023.csv'"
   ]
  },
  {
   "cell_type": "code",
   "execution_count": 4,
   "metadata": {},
   "outputs": [
    {
     "data": {
      "text/plain": [
       "['.git',\n",
       " '.jovianrc',\n",
       " 'zerotopandas-course-project.ipynb',\n",
       " '.ipynb_checkpoints',\n",
       " 'spotify_data']"
      ]
     },
     "execution_count": 4,
     "metadata": {},
     "output_type": "execute_result"
    }
   ],
   "source": [
    "import os\n",
    "os.listdir()"
   ]
  },
  {
   "cell_type": "markdown",
   "metadata": {},
   "source": [
    "The dataset has been downloaded and extracted via the jupyter's GUI"
   ]
  },
  {
   "cell_type": "markdown",
   "metadata": {},
   "source": [
    "Let us save and upload our work to Jovian before continuing."
   ]
  },
  {
   "cell_type": "code",
   "execution_count": 5,
   "metadata": {},
   "outputs": [],
   "source": [
    "project_name = \"spotify_songs_eda\" # change this (use lowercase letters and hyphens only)"
   ]
  },
  {
   "cell_type": "code",
   "execution_count": 6,
   "metadata": {},
   "outputs": [],
   "source": [
    "!pip install jovian --upgrade -q"
   ]
  },
  {
   "cell_type": "code",
   "execution_count": 7,
   "metadata": {},
   "outputs": [],
   "source": [
    "import jovian"
   ]
  },
  {
   "cell_type": "code",
   "execution_count": 8,
   "metadata": {},
   "outputs": [
    {
     "data": {
      "application/javascript": [
       "window.require && require([\"base/js/namespace\"],function(Jupyter){Jupyter.notebook.save_checkpoint()})"
      ],
      "text/plain": [
       "<IPython.core.display.Javascript object>"
      ]
     },
     "metadata": {},
     "output_type": "display_data"
    },
    {
     "name": "stdout",
     "output_type": "stream",
     "text": [
      "[jovian] Updating notebook \"manavarora3052001/spotify-songs-eda\" on https://jovian.com\u001b[0m\n",
      "[jovian] Committed successfully! https://jovian.com/manavarora3052001/spotify-songs-eda\u001b[0m\n"
     ]
    },
    {
     "data": {
      "text/plain": [
       "'https://jovian.com/manavarora3052001/spotify-songs-eda'"
      ]
     },
     "execution_count": 8,
     "metadata": {},
     "output_type": "execute_result"
    }
   ],
   "source": [
    "jovian.commit(project=project_name)"
   ]
  },
  {
   "cell_type": "code",
   "execution_count": 9,
   "metadata": {},
   "outputs": [
    {
     "data": {
      "application/javascript": [
       "window.require && require([\"base/js/namespace\"],function(Jupyter){Jupyter.notebook.save_checkpoint()})"
      ],
      "text/plain": [
       "<IPython.core.display.Javascript object>"
      ]
     },
     "metadata": {},
     "output_type": "display_data"
    },
    {
     "name": "stdout",
     "output_type": "stream",
     "text": [
      "[jovian] Updating notebook \"manavarora3052001/spotify-songs-eda\" on https://jovian.com\u001b[0m\n",
      "[jovian] Uploading additional files...\u001b[0m\n",
      "[jovian] Committed successfully! https://jovian.com/manavarora3052001/spotify-songs-eda\u001b[0m\n"
     ]
    },
    {
     "data": {
      "text/plain": [
       "'https://jovian.com/manavarora3052001/spotify-songs-eda'"
      ]
     },
     "execution_count": 9,
     "metadata": {},
     "output_type": "execute_result"
    }
   ],
   "source": [
    "jovian.commit(files=['spotify_data/spotify-2023.csv'])"
   ]
  },
  {
   "cell_type": "markdown",
   "metadata": {},
   "source": [
    "## Data Preparation and Cleaning\n",
    "\n",
    "Data cleaning involves identifying and correcting or removing errors, inconsistencies, and inaccuracies in datasets to improve their quality and Data preparation involves transforming raw data into a structured format that's suitable for analysis."
   ]
  },
  {
   "cell_type": "markdown",
   "metadata": {},
   "source": [
    "Firstly let's load the dataset into a data frame using Pandas\n"
   ]
  },
  {
   "cell_type": "code",
   "execution_count": 10,
   "metadata": {},
   "outputs": [],
   "source": [
    "spotify_df = pd.read_csv('spotify_data/spotify-2023.csv',encoding='latin-1')"
   ]
  },
  {
   "cell_type": "code",
   "execution_count": 11,
   "metadata": {},
   "outputs": [
    {
     "data": {
      "text/html": [
       "<div>\n",
       "<style scoped>\n",
       "    .dataframe tbody tr th:only-of-type {\n",
       "        vertical-align: middle;\n",
       "    }\n",
       "\n",
       "    .dataframe tbody tr th {\n",
       "        vertical-align: top;\n",
       "    }\n",
       "\n",
       "    .dataframe thead th {\n",
       "        text-align: right;\n",
       "    }\n",
       "</style>\n",
       "<table border=\"1\" class=\"dataframe\">\n",
       "  <thead>\n",
       "    <tr style=\"text-align: right;\">\n",
       "      <th></th>\n",
       "      <th>track_name</th>\n",
       "      <th>artist(s)_name</th>\n",
       "      <th>artist_count</th>\n",
       "      <th>released_year</th>\n",
       "      <th>released_month</th>\n",
       "      <th>released_day</th>\n",
       "      <th>in_spotify_playlists</th>\n",
       "      <th>in_spotify_charts</th>\n",
       "      <th>streams</th>\n",
       "      <th>in_apple_playlists</th>\n",
       "      <th>...</th>\n",
       "      <th>bpm</th>\n",
       "      <th>key</th>\n",
       "      <th>mode</th>\n",
       "      <th>danceability_%</th>\n",
       "      <th>valence_%</th>\n",
       "      <th>energy_%</th>\n",
       "      <th>acousticness_%</th>\n",
       "      <th>instrumentalness_%</th>\n",
       "      <th>liveness_%</th>\n",
       "      <th>speechiness_%</th>\n",
       "    </tr>\n",
       "  </thead>\n",
       "  <tbody>\n",
       "    <tr>\n",
       "      <th>0</th>\n",
       "      <td>Seven (feat. Latto) (Explicit Ver.)</td>\n",
       "      <td>Latto, Jung Kook</td>\n",
       "      <td>2</td>\n",
       "      <td>2023</td>\n",
       "      <td>7</td>\n",
       "      <td>14</td>\n",
       "      <td>553</td>\n",
       "      <td>147</td>\n",
       "      <td>141381703</td>\n",
       "      <td>43</td>\n",
       "      <td>...</td>\n",
       "      <td>125</td>\n",
       "      <td>B</td>\n",
       "      <td>Major</td>\n",
       "      <td>80</td>\n",
       "      <td>89</td>\n",
       "      <td>83</td>\n",
       "      <td>31</td>\n",
       "      <td>0</td>\n",
       "      <td>8</td>\n",
       "      <td>4</td>\n",
       "    </tr>\n",
       "    <tr>\n",
       "      <th>1</th>\n",
       "      <td>LALA</td>\n",
       "      <td>Myke Towers</td>\n",
       "      <td>1</td>\n",
       "      <td>2023</td>\n",
       "      <td>3</td>\n",
       "      <td>23</td>\n",
       "      <td>1474</td>\n",
       "      <td>48</td>\n",
       "      <td>133716286</td>\n",
       "      <td>48</td>\n",
       "      <td>...</td>\n",
       "      <td>92</td>\n",
       "      <td>C#</td>\n",
       "      <td>Major</td>\n",
       "      <td>71</td>\n",
       "      <td>61</td>\n",
       "      <td>74</td>\n",
       "      <td>7</td>\n",
       "      <td>0</td>\n",
       "      <td>10</td>\n",
       "      <td>4</td>\n",
       "    </tr>\n",
       "    <tr>\n",
       "      <th>2</th>\n",
       "      <td>vampire</td>\n",
       "      <td>Olivia Rodrigo</td>\n",
       "      <td>1</td>\n",
       "      <td>2023</td>\n",
       "      <td>6</td>\n",
       "      <td>30</td>\n",
       "      <td>1397</td>\n",
       "      <td>113</td>\n",
       "      <td>140003974</td>\n",
       "      <td>94</td>\n",
       "      <td>...</td>\n",
       "      <td>138</td>\n",
       "      <td>F</td>\n",
       "      <td>Major</td>\n",
       "      <td>51</td>\n",
       "      <td>32</td>\n",
       "      <td>53</td>\n",
       "      <td>17</td>\n",
       "      <td>0</td>\n",
       "      <td>31</td>\n",
       "      <td>6</td>\n",
       "    </tr>\n",
       "    <tr>\n",
       "      <th>3</th>\n",
       "      <td>Cruel Summer</td>\n",
       "      <td>Taylor Swift</td>\n",
       "      <td>1</td>\n",
       "      <td>2019</td>\n",
       "      <td>8</td>\n",
       "      <td>23</td>\n",
       "      <td>7858</td>\n",
       "      <td>100</td>\n",
       "      <td>800840817</td>\n",
       "      <td>116</td>\n",
       "      <td>...</td>\n",
       "      <td>170</td>\n",
       "      <td>A</td>\n",
       "      <td>Major</td>\n",
       "      <td>55</td>\n",
       "      <td>58</td>\n",
       "      <td>72</td>\n",
       "      <td>11</td>\n",
       "      <td>0</td>\n",
       "      <td>11</td>\n",
       "      <td>15</td>\n",
       "    </tr>\n",
       "    <tr>\n",
       "      <th>4</th>\n",
       "      <td>WHERE SHE GOES</td>\n",
       "      <td>Bad Bunny</td>\n",
       "      <td>1</td>\n",
       "      <td>2023</td>\n",
       "      <td>5</td>\n",
       "      <td>18</td>\n",
       "      <td>3133</td>\n",
       "      <td>50</td>\n",
       "      <td>303236322</td>\n",
       "      <td>84</td>\n",
       "      <td>...</td>\n",
       "      <td>144</td>\n",
       "      <td>A</td>\n",
       "      <td>Minor</td>\n",
       "      <td>65</td>\n",
       "      <td>23</td>\n",
       "      <td>80</td>\n",
       "      <td>14</td>\n",
       "      <td>63</td>\n",
       "      <td>11</td>\n",
       "      <td>6</td>\n",
       "    </tr>\n",
       "    <tr>\n",
       "      <th>...</th>\n",
       "      <td>...</td>\n",
       "      <td>...</td>\n",
       "      <td>...</td>\n",
       "      <td>...</td>\n",
       "      <td>...</td>\n",
       "      <td>...</td>\n",
       "      <td>...</td>\n",
       "      <td>...</td>\n",
       "      <td>...</td>\n",
       "      <td>...</td>\n",
       "      <td>...</td>\n",
       "      <td>...</td>\n",
       "      <td>...</td>\n",
       "      <td>...</td>\n",
       "      <td>...</td>\n",
       "      <td>...</td>\n",
       "      <td>...</td>\n",
       "      <td>...</td>\n",
       "      <td>...</td>\n",
       "      <td>...</td>\n",
       "      <td>...</td>\n",
       "    </tr>\n",
       "    <tr>\n",
       "      <th>948</th>\n",
       "      <td>My Mind &amp; Me</td>\n",
       "      <td>Selena Gomez</td>\n",
       "      <td>1</td>\n",
       "      <td>2022</td>\n",
       "      <td>11</td>\n",
       "      <td>3</td>\n",
       "      <td>953</td>\n",
       "      <td>0</td>\n",
       "      <td>91473363</td>\n",
       "      <td>61</td>\n",
       "      <td>...</td>\n",
       "      <td>144</td>\n",
       "      <td>A</td>\n",
       "      <td>Major</td>\n",
       "      <td>60</td>\n",
       "      <td>24</td>\n",
       "      <td>39</td>\n",
       "      <td>57</td>\n",
       "      <td>0</td>\n",
       "      <td>8</td>\n",
       "      <td>3</td>\n",
       "    </tr>\n",
       "    <tr>\n",
       "      <th>949</th>\n",
       "      <td>Bigger Than The Whole Sky</td>\n",
       "      <td>Taylor Swift</td>\n",
       "      <td>1</td>\n",
       "      <td>2022</td>\n",
       "      <td>10</td>\n",
       "      <td>21</td>\n",
       "      <td>1180</td>\n",
       "      <td>0</td>\n",
       "      <td>121871870</td>\n",
       "      <td>4</td>\n",
       "      <td>...</td>\n",
       "      <td>166</td>\n",
       "      <td>F#</td>\n",
       "      <td>Major</td>\n",
       "      <td>42</td>\n",
       "      <td>7</td>\n",
       "      <td>24</td>\n",
       "      <td>83</td>\n",
       "      <td>1</td>\n",
       "      <td>12</td>\n",
       "      <td>6</td>\n",
       "    </tr>\n",
       "    <tr>\n",
       "      <th>950</th>\n",
       "      <td>A Veces (feat. Feid)</td>\n",
       "      <td>Feid, Paulo Londra</td>\n",
       "      <td>2</td>\n",
       "      <td>2022</td>\n",
       "      <td>11</td>\n",
       "      <td>3</td>\n",
       "      <td>573</td>\n",
       "      <td>0</td>\n",
       "      <td>73513683</td>\n",
       "      <td>2</td>\n",
       "      <td>...</td>\n",
       "      <td>92</td>\n",
       "      <td>C#</td>\n",
       "      <td>Major</td>\n",
       "      <td>80</td>\n",
       "      <td>81</td>\n",
       "      <td>67</td>\n",
       "      <td>4</td>\n",
       "      <td>0</td>\n",
       "      <td>8</td>\n",
       "      <td>6</td>\n",
       "    </tr>\n",
       "    <tr>\n",
       "      <th>951</th>\n",
       "      <td>En La De Ella</td>\n",
       "      <td>Feid, Sech, Jhayco</td>\n",
       "      <td>3</td>\n",
       "      <td>2022</td>\n",
       "      <td>10</td>\n",
       "      <td>20</td>\n",
       "      <td>1320</td>\n",
       "      <td>0</td>\n",
       "      <td>133895612</td>\n",
       "      <td>29</td>\n",
       "      <td>...</td>\n",
       "      <td>97</td>\n",
       "      <td>C#</td>\n",
       "      <td>Major</td>\n",
       "      <td>82</td>\n",
       "      <td>67</td>\n",
       "      <td>77</td>\n",
       "      <td>8</td>\n",
       "      <td>0</td>\n",
       "      <td>12</td>\n",
       "      <td>5</td>\n",
       "    </tr>\n",
       "    <tr>\n",
       "      <th>952</th>\n",
       "      <td>Alone</td>\n",
       "      <td>Burna Boy</td>\n",
       "      <td>1</td>\n",
       "      <td>2022</td>\n",
       "      <td>11</td>\n",
       "      <td>4</td>\n",
       "      <td>782</td>\n",
       "      <td>2</td>\n",
       "      <td>96007391</td>\n",
       "      <td>27</td>\n",
       "      <td>...</td>\n",
       "      <td>90</td>\n",
       "      <td>E</td>\n",
       "      <td>Minor</td>\n",
       "      <td>61</td>\n",
       "      <td>32</td>\n",
       "      <td>67</td>\n",
       "      <td>15</td>\n",
       "      <td>0</td>\n",
       "      <td>11</td>\n",
       "      <td>5</td>\n",
       "    </tr>\n",
       "  </tbody>\n",
       "</table>\n",
       "<p>953 rows × 24 columns</p>\n",
       "</div>"
      ],
      "text/plain": [
       "                              track_name      artist(s)_name  artist_count  \\\n",
       "0    Seven (feat. Latto) (Explicit Ver.)    Latto, Jung Kook             2   \n",
       "1                                   LALA         Myke Towers             1   \n",
       "2                                vampire      Olivia Rodrigo             1   \n",
       "3                           Cruel Summer        Taylor Swift             1   \n",
       "4                         WHERE SHE GOES           Bad Bunny             1   \n",
       "..                                   ...                 ...           ...   \n",
       "948                         My Mind & Me        Selena Gomez             1   \n",
       "949            Bigger Than The Whole Sky        Taylor Swift             1   \n",
       "950                 A Veces (feat. Feid)  Feid, Paulo Londra             2   \n",
       "951                        En La De Ella  Feid, Sech, Jhayco             3   \n",
       "952                                Alone           Burna Boy             1   \n",
       "\n",
       "     released_year  released_month  released_day  in_spotify_playlists  \\\n",
       "0             2023               7            14                   553   \n",
       "1             2023               3            23                  1474   \n",
       "2             2023               6            30                  1397   \n",
       "3             2019               8            23                  7858   \n",
       "4             2023               5            18                  3133   \n",
       "..             ...             ...           ...                   ...   \n",
       "948           2022              11             3                   953   \n",
       "949           2022              10            21                  1180   \n",
       "950           2022              11             3                   573   \n",
       "951           2022              10            20                  1320   \n",
       "952           2022              11             4                   782   \n",
       "\n",
       "     in_spotify_charts    streams  in_apple_playlists  ...  bpm key   mode  \\\n",
       "0                  147  141381703                  43  ...  125   B  Major   \n",
       "1                   48  133716286                  48  ...   92  C#  Major   \n",
       "2                  113  140003974                  94  ...  138   F  Major   \n",
       "3                  100  800840817                 116  ...  170   A  Major   \n",
       "4                   50  303236322                  84  ...  144   A  Minor   \n",
       "..                 ...        ...                 ...  ...  ...  ..    ...   \n",
       "948                  0   91473363                  61  ...  144   A  Major   \n",
       "949                  0  121871870                   4  ...  166  F#  Major   \n",
       "950                  0   73513683                   2  ...   92  C#  Major   \n",
       "951                  0  133895612                  29  ...   97  C#  Major   \n",
       "952                  2   96007391                  27  ...   90   E  Minor   \n",
       "\n",
       "    danceability_%  valence_% energy_% acousticness_%  instrumentalness_%  \\\n",
       "0               80         89       83             31                   0   \n",
       "1               71         61       74              7                   0   \n",
       "2               51         32       53             17                   0   \n",
       "3               55         58       72             11                   0   \n",
       "4               65         23       80             14                  63   \n",
       "..             ...        ...      ...            ...                 ...   \n",
       "948             60         24       39             57                   0   \n",
       "949             42          7       24             83                   1   \n",
       "950             80         81       67              4                   0   \n",
       "951             82         67       77              8                   0   \n",
       "952             61         32       67             15                   0   \n",
       "\n",
       "     liveness_%  speechiness_%  \n",
       "0             8              4  \n",
       "1            10              4  \n",
       "2            31              6  \n",
       "3            11             15  \n",
       "4            11              6  \n",
       "..          ...            ...  \n",
       "948           8              3  \n",
       "949          12              6  \n",
       "950           8              6  \n",
       "951          12              5  \n",
       "952          11              5  \n",
       "\n",
       "[953 rows x 24 columns]"
      ]
     },
     "execution_count": 11,
     "metadata": {},
     "output_type": "execute_result"
    }
   ],
   "source": [
    "spotify_df"
   ]
  },
  {
   "cell_type": "markdown",
   "metadata": {},
   "source": [
    "Lets first get to know the rows and columns of the dataset"
   ]
  },
  {
   "cell_type": "code",
   "execution_count": 12,
   "metadata": {},
   "outputs": [
    {
     "data": {
      "text/plain": [
       "(953, 24)"
      ]
     },
     "execution_count": 12,
     "metadata": {},
     "output_type": "execute_result"
    }
   ],
   "source": [
    "spotify_df.shape"
   ]
  },
  {
   "cell_type": "markdown",
   "metadata": {},
   "source": [
    "Now lets check for any missing values in the dataset"
   ]
  },
  {
   "cell_type": "code",
   "execution_count": 13,
   "metadata": {},
   "outputs": [],
   "source": [
    "missing_values = spotify_df.isnull().sum()"
   ]
  },
  {
   "cell_type": "code",
   "execution_count": 14,
   "metadata": {},
   "outputs": [
    {
     "data": {
      "text/plain": [
       "track_name               0\n",
       "artist(s)_name           0\n",
       "artist_count             0\n",
       "released_year            0\n",
       "released_month           0\n",
       "released_day             0\n",
       "in_spotify_playlists     0\n",
       "in_spotify_charts        0\n",
       "streams                  0\n",
       "in_apple_playlists       0\n",
       "in_apple_charts          0\n",
       "in_deezer_playlists      0\n",
       "in_deezer_charts         0\n",
       "in_shazam_charts        50\n",
       "bpm                      0\n",
       "key                     95\n",
       "mode                     0\n",
       "danceability_%           0\n",
       "valence_%                0\n",
       "energy_%                 0\n",
       "acousticness_%           0\n",
       "instrumentalness_%       0\n",
       "liveness_%               0\n",
       "speechiness_%            0\n",
       "dtype: int64"
      ]
     },
     "execution_count": 14,
     "metadata": {},
     "output_type": "execute_result"
    }
   ],
   "source": [
    "missing_values"
   ]
  },
  {
   "cell_type": "code",
   "execution_count": 15,
   "metadata": {},
   "outputs": [
    {
     "data": {
      "text/plain": [
       "track_name              object\n",
       "artist(s)_name          object\n",
       "artist_count             int64\n",
       "released_year            int64\n",
       "released_month           int64\n",
       "released_day             int64\n",
       "in_spotify_playlists     int64\n",
       "in_spotify_charts        int64\n",
       "streams                 object\n",
       "in_apple_playlists       int64\n",
       "in_apple_charts          int64\n",
       "in_deezer_playlists     object\n",
       "in_deezer_charts         int64\n",
       "in_shazam_charts        object\n",
       "bpm                      int64\n",
       "key                     object\n",
       "mode                    object\n",
       "danceability_%           int64\n",
       "valence_%                int64\n",
       "energy_%                 int64\n",
       "acousticness_%           int64\n",
       "instrumentalness_%       int64\n",
       "liveness_%               int64\n",
       "speechiness_%            int64\n",
       "dtype: object"
      ]
     },
     "execution_count": 15,
     "metadata": {},
     "output_type": "execute_result"
    }
   ],
   "source": [
    "spotify_df.dtypes"
   ]
  },
  {
   "cell_type": "markdown",
   "metadata": {},
   "source": [
    "This shows that there are missing values in the columns 'in_shazam_charts' and 'key'"
   ]
  },
  {
   "cell_type": "markdown",
   "metadata": {},
   "source": [
    "So lets deal with the missing values of the dataset first\n",
    "\n",
    "We will replace all the null values with 0,\n",
    "So When we perform Mathematical operations there would be no errors. Replacing null values with zero ensures that these operations can proceed without interruptions."
   ]
  },
  {
   "cell_type": "code",
   "execution_count": 16,
   "metadata": {},
   "outputs": [],
   "source": [
    "spotify_df.fillna(value=0, axis = 0,inplace = True)"
   ]
  },
  {
   "cell_type": "markdown",
   "metadata": {},
   "source": [
    "Lets check for null values again to ensure the values are being replaced."
   ]
  },
  {
   "cell_type": "code",
   "execution_count": 17,
   "metadata": {},
   "outputs": [],
   "source": [
    "missing_values = spotify_df.isnull().sum()"
   ]
  },
  {
   "cell_type": "code",
   "execution_count": 18,
   "metadata": {},
   "outputs": [
    {
     "data": {
      "text/plain": [
       "track_name              0\n",
       "artist(s)_name          0\n",
       "artist_count            0\n",
       "released_year           0\n",
       "released_month          0\n",
       "released_day            0\n",
       "in_spotify_playlists    0\n",
       "in_spotify_charts       0\n",
       "streams                 0\n",
       "in_apple_playlists      0\n",
       "in_apple_charts         0\n",
       "in_deezer_playlists     0\n",
       "in_deezer_charts        0\n",
       "in_shazam_charts        0\n",
       "bpm                     0\n",
       "key                     0\n",
       "mode                    0\n",
       "danceability_%          0\n",
       "valence_%               0\n",
       "energy_%                0\n",
       "acousticness_%          0\n",
       "instrumentalness_%      0\n",
       "liveness_%              0\n",
       "speechiness_%           0\n",
       "dtype: int64"
      ]
     },
     "execution_count": 18,
     "metadata": {},
     "output_type": "execute_result"
    }
   ],
   "source": [
    "missing_values "
   ]
  },
  {
   "cell_type": "markdown",
   "metadata": {},
   "source": [
    "We can see now there are no missing or null values in the dataset. Now we can use this for EDA and analysis\n"
   ]
  },
  {
   "cell_type": "code",
   "execution_count": null,
   "metadata": {},
   "outputs": [],
   "source": []
  },
  {
   "cell_type": "code",
   "execution_count": 19,
   "metadata": {},
   "outputs": [],
   "source": [
    "import jovian"
   ]
  },
  {
   "cell_type": "code",
   "execution_count": 20,
   "metadata": {},
   "outputs": [
    {
     "data": {
      "application/javascript": [
       "window.require && require([\"base/js/namespace\"],function(Jupyter){Jupyter.notebook.save_checkpoint()})"
      ],
      "text/plain": [
       "<IPython.core.display.Javascript object>"
      ]
     },
     "metadata": {},
     "output_type": "display_data"
    },
    {
     "name": "stdout",
     "output_type": "stream",
     "text": [
      "[jovian] Updating notebook \"manavarora3052001/spotify-songs-eda\" on https://jovian.com\u001b[0m\n",
      "[jovian] Committed successfully! https://jovian.com/manavarora3052001/spotify-songs-eda\u001b[0m\n"
     ]
    },
    {
     "data": {
      "text/plain": [
       "'https://jovian.com/manavarora3052001/spotify-songs-eda'"
      ]
     },
     "execution_count": 20,
     "metadata": {},
     "output_type": "execute_result"
    }
   ],
   "source": [
    "jovian.commit()"
   ]
  },
  {
   "cell_type": "markdown",
   "metadata": {},
   "source": [
    "## Exploratory Analysis and Visualization\n",
    "\n",
    "\n"
   ]
  },
  {
   "cell_type": "markdown",
   "metadata": {},
   "source": [
    "Let's begin by importing`matplotlib.pyplot` and `seaborn`."
   ]
  },
  {
   "cell_type": "code",
   "execution_count": 21,
   "metadata": {},
   "outputs": [],
   "source": [
    "import seaborn as sns\n",
    "import matplotlib\n",
    "import matplotlib.pyplot as plt\n",
    "%matplotlib inline\n",
    "\n",
    "sns.set_style('darkgrid')\n",
    "matplotlib.rcParams['font.size'] = 14\n",
    "matplotlib.rcParams['figure.figsize'] = (9, 5)\n",
    "matplotlib.rcParams['figure.facecolor'] = '#00000000'"
   ]
  },
  {
   "cell_type": "markdown",
   "metadata": {},
   "source": [
    "\n",
    "#### Firstly Lets try to know top 10 artists with most number of songs in the dataset and then plot its graph"
   ]
  },
  {
   "cell_type": "code",
   "execution_count": 22,
   "metadata": {},
   "outputs": [],
   "source": [
    "top_artist=spotify_df['artist(s)_name'].value_counts().head(10)"
   ]
  },
  {
   "cell_type": "code",
   "execution_count": 23,
   "metadata": {},
   "outputs": [
    {
     "data": {
      "text/plain": [
       "Taylor Swift      34\n",
       "The Weeknd        22\n",
       "Bad Bunny         19\n",
       "SZA               19\n",
       "Harry Styles      17\n",
       "Kendrick Lamar    12\n",
       "Morgan Wallen     11\n",
       "Ed Sheeran         9\n",
       "BTS                8\n",
       "Feid               8\n",
       "Name: artist(s)_name, dtype: int64"
      ]
     },
     "execution_count": 23,
     "metadata": {},
     "output_type": "execute_result"
    }
   ],
   "source": [
    "top_artist"
   ]
  },
  {
   "cell_type": "code",
   "execution_count": 24,
   "metadata": {},
   "outputs": [
    {
     "data": {
      "image/png": "[encoded data removed]",
      "text/plain": [
       "<Figure size 1080x432 with 1 Axes>"
      ]
     },
     "metadata": {
      "needs_background": "light"
     },
     "output_type": "display_data"
    }
   ],
   "source": [
    "\n",
    "\n",
    "# Plot\n",
    "plt.figure(figsize=(15, 6))\n",
    "sns.barplot(x=top_artist.values, y=top_artist.index, palette='viridis')  \n",
    "plt.xlabel=('Top Artists')  \n",
    "plt.ylabel=('Number of Songs')  \n",
    "plt.title=('Top 10 Artists with Most Songs')  \n",
    "\n"
   ]
  },
  {
   "cell_type": "markdown",
   "metadata": {},
   "source": [
    "From the graph we can clearly see that 'Taylor Swift' is the artist with most number of songs produced i.e. 34 according to the dataset.And 'The Weekend' is the second artist with most number songs produced i.e. 22.\n"
   ]
  },
  {
   "cell_type": "markdown",
   "metadata": {},
   "source": [
    "So for further Visualizations lets first check the data types of the columns"
   ]
  },
  {
   "cell_type": "code",
   "execution_count": 25,
   "metadata": {},
   "outputs": [
    {
     "data": {
      "text/plain": [
       "track_name              object\n",
       "artist(s)_name          object\n",
       "artist_count             int64\n",
       "released_year            int64\n",
       "released_month           int64\n",
       "released_day             int64\n",
       "in_spotify_playlists     int64\n",
       "in_spotify_charts        int64\n",
       "streams                 object\n",
       "in_apple_playlists       int64\n",
       "in_apple_charts          int64\n",
       "in_deezer_playlists     object\n",
       "in_deezer_charts         int64\n",
       "in_shazam_charts        object\n",
       "bpm                      int64\n",
       "key                     object\n",
       "mode                    object\n",
       "danceability_%           int64\n",
       "valence_%                int64\n",
       "energy_%                 int64\n",
       "acousticness_%           int64\n",
       "instrumentalness_%       int64\n",
       "liveness_%               int64\n",
       "speechiness_%            int64\n",
       "dtype: object"
      ]
     },
     "execution_count": 25,
     "metadata": {},
     "output_type": "execute_result"
    }
   ],
   "source": [
    "spotify_df.dtypes"
   ]
  },
  {
   "cell_type": "markdown",
   "metadata": {},
   "source": [
    "We will be removing the non numeric values in the streams column & changing its datatype to integer so its easy to perform calculations using it"
   ]
  },
  {
   "cell_type": "code",
   "execution_count": 26,
   "metadata": {},
   "outputs": [],
   "source": [
    "spotify_df['streams'] = pd.to_numeric(spotify_df['streams'], errors='coerce')"
   ]
  },
  {
   "cell_type": "code",
   "execution_count": 27,
   "metadata": {},
   "outputs": [
    {
     "data": {
      "text/html": [
       "<div>\n",
       "<style scoped>\n",
       "    .dataframe tbody tr th:only-of-type {\n",
       "        vertical-align: middle;\n",
       "    }\n",
       "\n",
       "    .dataframe tbody tr th {\n",
       "        vertical-align: top;\n",
       "    }\n",
       "\n",
       "    .dataframe thead th {\n",
       "        text-align: right;\n",
       "    }\n",
       "</style>\n",
       "<table border=\"1\" class=\"dataframe\">\n",
       "  <thead>\n",
       "    <tr style=\"text-align: right;\">\n",
       "      <th></th>\n",
       "      <th>track_name</th>\n",
       "      <th>artist(s)_name</th>\n",
       "      <th>artist_count</th>\n",
       "      <th>released_year</th>\n",
       "      <th>released_month</th>\n",
       "      <th>released_day</th>\n",
       "      <th>in_spotify_playlists</th>\n",
       "      <th>in_spotify_charts</th>\n",
       "      <th>streams</th>\n",
       "      <th>in_apple_playlists</th>\n",
       "      <th>...</th>\n",
       "      <th>bpm</th>\n",
       "      <th>key</th>\n",
       "      <th>mode</th>\n",
       "      <th>danceability_%</th>\n",
       "      <th>valence_%</th>\n",
       "      <th>energy_%</th>\n",
       "      <th>acousticness_%</th>\n",
       "      <th>instrumentalness_%</th>\n",
       "      <th>liveness_%</th>\n",
       "      <th>speechiness_%</th>\n",
       "    </tr>\n",
       "  </thead>\n",
       "  <tbody>\n",
       "    <tr>\n",
       "      <th>0</th>\n",
       "      <td>Seven (feat. Latto) (Explicit Ver.)</td>\n",
       "      <td>Latto, Jung Kook</td>\n",
       "      <td>2</td>\n",
       "      <td>2023</td>\n",
       "      <td>7</td>\n",
       "      <td>14</td>\n",
       "      <td>553</td>\n",
       "      <td>147</td>\n",
       "      <td>141381703.0</td>\n",
       "      <td>43</td>\n",
       "      <td>...</td>\n",
       "      <td>125</td>\n",
       "      <td>B</td>\n",
       "      <td>Major</td>\n",
       "      <td>80</td>\n",
       "      <td>89</td>\n",
       "      <td>83</td>\n",
       "      <td>31</td>\n",
       "      <td>0</td>\n",
       "      <td>8</td>\n",
       "      <td>4</td>\n",
       "    </tr>\n",
       "    <tr>\n",
       "      <th>1</th>\n",
       "      <td>LALA</td>\n",
       "      <td>Myke Towers</td>\n",
       "      <td>1</td>\n",
       "      <td>2023</td>\n",
       "      <td>3</td>\n",
       "      <td>23</td>\n",
       "      <td>1474</td>\n",
       "      <td>48</td>\n",
       "      <td>133716286.0</td>\n",
       "      <td>48</td>\n",
       "      <td>...</td>\n",
       "      <td>92</td>\n",
       "      <td>C#</td>\n",
       "      <td>Major</td>\n",
       "      <td>71</td>\n",
       "      <td>61</td>\n",
       "      <td>74</td>\n",
       "      <td>7</td>\n",
       "      <td>0</td>\n",
       "      <td>10</td>\n",
       "      <td>4</td>\n",
       "    </tr>\n",
       "    <tr>\n",
       "      <th>2</th>\n",
       "      <td>vampire</td>\n",
       "      <td>Olivia Rodrigo</td>\n",
       "      <td>1</td>\n",
       "      <td>2023</td>\n",
       "      <td>6</td>\n",
       "      <td>30</td>\n",
       "      <td>1397</td>\n",
       "      <td>113</td>\n",
       "      <td>140003974.0</td>\n",
       "      <td>94</td>\n",
       "      <td>...</td>\n",
       "      <td>138</td>\n",
       "      <td>F</td>\n",
       "      <td>Major</td>\n",
       "      <td>51</td>\n",
       "      <td>32</td>\n",
       "      <td>53</td>\n",
       "      <td>17</td>\n",
       "      <td>0</td>\n",
       "      <td>31</td>\n",
       "      <td>6</td>\n",
       "    </tr>\n",
       "    <tr>\n",
       "      <th>3</th>\n",
       "      <td>Cruel Summer</td>\n",
       "      <td>Taylor Swift</td>\n",
       "      <td>1</td>\n",
       "      <td>2019</td>\n",
       "      <td>8</td>\n",
       "      <td>23</td>\n",
       "      <td>7858</td>\n",
       "      <td>100</td>\n",
       "      <td>800840817.0</td>\n",
       "      <td>116</td>\n",
       "      <td>...</td>\n",
       "      <td>170</td>\n",
       "      <td>A</td>\n",
       "      <td>Major</td>\n",
       "      <td>55</td>\n",
       "      <td>58</td>\n",
       "      <td>72</td>\n",
       "      <td>11</td>\n",
       "      <td>0</td>\n",
       "      <td>11</td>\n",
       "      <td>15</td>\n",
       "    </tr>\n",
       "    <tr>\n",
       "      <th>4</th>\n",
       "      <td>WHERE SHE GOES</td>\n",
       "      <td>Bad Bunny</td>\n",
       "      <td>1</td>\n",
       "      <td>2023</td>\n",
       "      <td>5</td>\n",
       "      <td>18</td>\n",
       "      <td>3133</td>\n",
       "      <td>50</td>\n",
       "      <td>303236322.0</td>\n",
       "      <td>84</td>\n",
       "      <td>...</td>\n",
       "      <td>144</td>\n",
       "      <td>A</td>\n",
       "      <td>Minor</td>\n",
       "      <td>65</td>\n",
       "      <td>23</td>\n",
       "      <td>80</td>\n",
       "      <td>14</td>\n",
       "      <td>63</td>\n",
       "      <td>11</td>\n",
       "      <td>6</td>\n",
       "    </tr>\n",
       "    <tr>\n",
       "      <th>...</th>\n",
       "      <td>...</td>\n",
       "      <td>...</td>\n",
       "      <td>...</td>\n",
       "      <td>...</td>\n",
       "      <td>...</td>\n",
       "      <td>...</td>\n",
       "      <td>...</td>\n",
       "      <td>...</td>\n",
       "      <td>...</td>\n",
       "      <td>...</td>\n",
       "      <td>...</td>\n",
       "      <td>...</td>\n",
       "      <td>...</td>\n",
       "      <td>...</td>\n",
       "      <td>...</td>\n",
       "      <td>...</td>\n",
       "      <td>...</td>\n",
       "      <td>...</td>\n",
       "      <td>...</td>\n",
       "      <td>...</td>\n",
       "      <td>...</td>\n",
       "    </tr>\n",
       "    <tr>\n",
       "      <th>948</th>\n",
       "      <td>My Mind &amp; Me</td>\n",
       "      <td>Selena Gomez</td>\n",
       "      <td>1</td>\n",
       "      <td>2022</td>\n",
       "      <td>11</td>\n",
       "      <td>3</td>\n",
       "      <td>953</td>\n",
       "      <td>0</td>\n",
       "      <td>91473363.0</td>\n",
       "      <td>61</td>\n",
       "      <td>...</td>\n",
       "      <td>144</td>\n",
       "      <td>A</td>\n",
       "      <td>Major</td>\n",
       "      <td>60</td>\n",
       "      <td>24</td>\n",
       "      <td>39</td>\n",
       "      <td>57</td>\n",
       "      <td>0</td>\n",
       "      <td>8</td>\n",
       "      <td>3</td>\n",
       "    </tr>\n",
       "    <tr>\n",
       "      <th>949</th>\n",
       "      <td>Bigger Than The Whole Sky</td>\n",
       "      <td>Taylor Swift</td>\n",
       "      <td>1</td>\n",
       "      <td>2022</td>\n",
       "      <td>10</td>\n",
       "      <td>21</td>\n",
       "      <td>1180</td>\n",
       "      <td>0</td>\n",
       "      <td>121871870.0</td>\n",
       "      <td>4</td>\n",
       "      <td>...</td>\n",
       "      <td>166</td>\n",
       "      <td>F#</td>\n",
       "      <td>Major</td>\n",
       "      <td>42</td>\n",
       "      <td>7</td>\n",
       "      <td>24</td>\n",
       "      <td>83</td>\n",
       "      <td>1</td>\n",
       "      <td>12</td>\n",
       "      <td>6</td>\n",
       "    </tr>\n",
       "    <tr>\n",
       "      <th>950</th>\n",
       "      <td>A Veces (feat. Feid)</td>\n",
       "      <td>Feid, Paulo Londra</td>\n",
       "      <td>2</td>\n",
       "      <td>2022</td>\n",
       "      <td>11</td>\n",
       "      <td>3</td>\n",
       "      <td>573</td>\n",
       "      <td>0</td>\n",
       "      <td>73513683.0</td>\n",
       "      <td>2</td>\n",
       "      <td>...</td>\n",
       "      <td>92</td>\n",
       "      <td>C#</td>\n",
       "      <td>Major</td>\n",
       "      <td>80</td>\n",
       "      <td>81</td>\n",
       "      <td>67</td>\n",
       "      <td>4</td>\n",
       "      <td>0</td>\n",
       "      <td>8</td>\n",
       "      <td>6</td>\n",
       "    </tr>\n",
       "    <tr>\n",
       "      <th>951</th>\n",
       "      <td>En La De Ella</td>\n",
       "      <td>Feid, Sech, Jhayco</td>\n",
       "      <td>3</td>\n",
       "      <td>2022</td>\n",
       "      <td>10</td>\n",
       "      <td>20</td>\n",
       "      <td>1320</td>\n",
       "      <td>0</td>\n",
       "      <td>133895612.0</td>\n",
       "      <td>29</td>\n",
       "      <td>...</td>\n",
       "      <td>97</td>\n",
       "      <td>C#</td>\n",
       "      <td>Major</td>\n",
       "      <td>82</td>\n",
       "      <td>67</td>\n",
       "      <td>77</td>\n",
       "      <td>8</td>\n",
       "      <td>0</td>\n",
       "      <td>12</td>\n",
       "      <td>5</td>\n",
       "    </tr>\n",
       "    <tr>\n",
       "      <th>952</th>\n",
       "      <td>Alone</td>\n",
       "      <td>Burna Boy</td>\n",
       "      <td>1</td>\n",
       "      <td>2022</td>\n",
       "      <td>11</td>\n",
       "      <td>4</td>\n",
       "      <td>782</td>\n",
       "      <td>2</td>\n",
       "      <td>96007391.0</td>\n",
       "      <td>27</td>\n",
       "      <td>...</td>\n",
       "      <td>90</td>\n",
       "      <td>E</td>\n",
       "      <td>Minor</td>\n",
       "      <td>61</td>\n",
       "      <td>32</td>\n",
       "      <td>67</td>\n",
       "      <td>15</td>\n",
       "      <td>0</td>\n",
       "      <td>11</td>\n",
       "      <td>5</td>\n",
       "    </tr>\n",
       "  </tbody>\n",
       "</table>\n",
       "<p>953 rows × 24 columns</p>\n",
       "</div>"
      ],
      "text/plain": [
       "                              track_name      artist(s)_name  artist_count  \\\n",
       "0    Seven (feat. Latto) (Explicit Ver.)    Latto, Jung Kook             2   \n",
       "1                                   LALA         Myke Towers             1   \n",
       "2                                vampire      Olivia Rodrigo             1   \n",
       "3                           Cruel Summer        Taylor Swift             1   \n",
       "4                         WHERE SHE GOES           Bad Bunny             1   \n",
       "..                                   ...                 ...           ...   \n",
       "948                         My Mind & Me        Selena Gomez             1   \n",
       "949            Bigger Than The Whole Sky        Taylor Swift             1   \n",
       "950                 A Veces (feat. Feid)  Feid, Paulo Londra             2   \n",
       "951                        En La De Ella  Feid, Sech, Jhayco             3   \n",
       "952                                Alone           Burna Boy             1   \n",
       "\n",
       "     released_year  released_month  released_day  in_spotify_playlists  \\\n",
       "0             2023               7            14                   553   \n",
       "1             2023               3            23                  1474   \n",
       "2             2023               6            30                  1397   \n",
       "3             2019               8            23                  7858   \n",
       "4             2023               5            18                  3133   \n",
       "..             ...             ...           ...                   ...   \n",
       "948           2022              11             3                   953   \n",
       "949           2022              10            21                  1180   \n",
       "950           2022              11             3                   573   \n",
       "951           2022              10            20                  1320   \n",
       "952           2022              11             4                   782   \n",
       "\n",
       "     in_spotify_charts      streams  in_apple_playlists  ...  bpm key   mode  \\\n",
       "0                  147  141381703.0                  43  ...  125   B  Major   \n",
       "1                   48  133716286.0                  48  ...   92  C#  Major   \n",
       "2                  113  140003974.0                  94  ...  138   F  Major   \n",
       "3                  100  800840817.0                 116  ...  170   A  Major   \n",
       "4                   50  303236322.0                  84  ...  144   A  Minor   \n",
       "..                 ...          ...                 ...  ...  ...  ..    ...   \n",
       "948                  0   91473363.0                  61  ...  144   A  Major   \n",
       "949                  0  121871870.0                   4  ...  166  F#  Major   \n",
       "950                  0   73513683.0                   2  ...   92  C#  Major   \n",
       "951                  0  133895612.0                  29  ...   97  C#  Major   \n",
       "952                  2   96007391.0                  27  ...   90   E  Minor   \n",
       "\n",
       "    danceability_%  valence_% energy_% acousticness_%  instrumentalness_%  \\\n",
       "0               80         89       83             31                   0   \n",
       "1               71         61       74              7                   0   \n",
       "2               51         32       53             17                   0   \n",
       "3               55         58       72             11                   0   \n",
       "4               65         23       80             14                  63   \n",
       "..             ...        ...      ...            ...                 ...   \n",
       "948             60         24       39             57                   0   \n",
       "949             42          7       24             83                   1   \n",
       "950             80         81       67              4                   0   \n",
       "951             82         67       77              8                   0   \n",
       "952             61         32       67             15                   0   \n",
       "\n",
       "     liveness_%  speechiness_%  \n",
       "0             8              4  \n",
       "1            10              4  \n",
       "2            31              6  \n",
       "3            11             15  \n",
       "4            11              6  \n",
       "..          ...            ...  \n",
       "948           8              3  \n",
       "949          12              6  \n",
       "950           8              6  \n",
       "951          12              5  \n",
       "952          11              5  \n",
       "\n",
       "[953 rows x 24 columns]"
      ]
     },
     "execution_count": 27,
     "metadata": {},
     "output_type": "execute_result"
    }
   ],
   "source": [
    "spotify_df"
   ]
  },
  {
   "cell_type": "markdown",
   "metadata": {},
   "source": [
    "#### Now lets identify the top 10 songs most streamed songs on spotify from the dataset"
   ]
  },
  {
   "cell_type": "code",
   "execution_count": 28,
   "metadata": {},
   "outputs": [],
   "source": [
    "pd.set_option('display.max_rows', None)"
   ]
  },
  {
   "cell_type": "code",
   "execution_count": 29,
   "metadata": {},
   "outputs": [],
   "source": [
    "most_streamed_songs = spotify_df[['artist(s)_name','track_name','streams']].sort_values(by='streams', ascending=False).head(10)"
   ]
  },
  {
   "cell_type": "code",
   "execution_count": 30,
   "metadata": {},
   "outputs": [],
   "source": [
    "num = 15"
   ]
  },
  {
   "cell_type": "code",
   "execution_count": 31,
   "metadata": {},
   "outputs": [
    {
     "data": {
      "text/html": [
       "<div>\n",
       "<style scoped>\n",
       "    .dataframe tbody tr th:only-of-type {\n",
       "        vertical-align: middle;\n",
       "    }\n",
       "\n",
       "    .dataframe tbody tr th {\n",
       "        vertical-align: top;\n",
       "    }\n",
       "\n",
       "    .dataframe thead th {\n",
       "        text-align: right;\n",
       "    }\n",
       "</style>\n",
       "<table border=\"1\" class=\"dataframe\">\n",
       "  <thead>\n",
       "    <tr style=\"text-align: right;\">\n",
       "      <th></th>\n",
       "      <th>artist(s)_name</th>\n",
       "      <th>track_name</th>\n",
       "      <th>streams</th>\n",
       "    </tr>\n",
       "  </thead>\n",
       "  <tbody>\n",
       "    <tr>\n",
       "      <th>55</th>\n",
       "      <td>The Weeknd</td>\n",
       "      <td>Blinding Lights</td>\n",
       "      <td>3.703895e+09</td>\n",
       "    </tr>\n",
       "    <tr>\n",
       "      <th>179</th>\n",
       "      <td>Ed Sheeran</td>\n",
       "      <td>Shape of You</td>\n",
       "      <td>3.562544e+09</td>\n",
       "    </tr>\n",
       "    <tr>\n",
       "      <th>86</th>\n",
       "      <td>Lewis Capaldi</td>\n",
       "      <td>Someone You Loved</td>\n",
       "      <td>2.887242e+09</td>\n",
       "    </tr>\n",
       "    <tr>\n",
       "      <th>620</th>\n",
       "      <td>Tones and I</td>\n",
       "      <td>Dance Monkey</td>\n",
       "      <td>2.864792e+09</td>\n",
       "    </tr>\n",
       "    <tr>\n",
       "      <th>41</th>\n",
       "      <td>Post Malone, Swae Lee</td>\n",
       "      <td>Sunflower - Spider-Man: Into the Spider-Verse</td>\n",
       "      <td>2.808097e+09</td>\n",
       "    </tr>\n",
       "    <tr>\n",
       "      <th>162</th>\n",
       "      <td>Drake, WizKid, Kyla</td>\n",
       "      <td>One Dance</td>\n",
       "      <td>2.713922e+09</td>\n",
       "    </tr>\n",
       "    <tr>\n",
       "      <th>84</th>\n",
       "      <td>Justin Bieber, The Kid Laroi</td>\n",
       "      <td>STAY (with Justin Bieber)</td>\n",
       "      <td>2.665344e+09</td>\n",
       "    </tr>\n",
       "    <tr>\n",
       "      <th>140</th>\n",
       "      <td>Imagine Dragons</td>\n",
       "      <td>Believer</td>\n",
       "      <td>2.594040e+09</td>\n",
       "    </tr>\n",
       "    <tr>\n",
       "      <th>725</th>\n",
       "      <td>The Chainsmokers, Halsey</td>\n",
       "      <td>Closer</td>\n",
       "      <td>2.591224e+09</td>\n",
       "    </tr>\n",
       "    <tr>\n",
       "      <th>48</th>\n",
       "      <td>The Weeknd, Daft Punk</td>\n",
       "      <td>Starboy</td>\n",
       "      <td>2.565530e+09</td>\n",
       "    </tr>\n",
       "  </tbody>\n",
       "</table>\n",
       "</div>"
      ],
      "text/plain": [
       "                   artist(s)_name  \\\n",
       "55                     The Weeknd   \n",
       "179                    Ed Sheeran   \n",
       "86                  Lewis Capaldi   \n",
       "620                   Tones and I   \n",
       "41          Post Malone, Swae Lee   \n",
       "162           Drake, WizKid, Kyla   \n",
       "84   Justin Bieber, The Kid Laroi   \n",
       "140               Imagine Dragons   \n",
       "725      The Chainsmokers, Halsey   \n",
       "48          The Weeknd, Daft Punk   \n",
       "\n",
       "                                        track_name       streams  \n",
       "55                                 Blinding Lights  3.703895e+09  \n",
       "179                                   Shape of You  3.562544e+09  \n",
       "86                               Someone You Loved  2.887242e+09  \n",
       "620                                   Dance Monkey  2.864792e+09  \n",
       "41   Sunflower - Spider-Man: Into the Spider-Verse  2.808097e+09  \n",
       "162                                      One Dance  2.713922e+09  \n",
       "84                       STAY (with Justin Bieber)  2.665344e+09  \n",
       "140                                       Believer  2.594040e+09  \n",
       "725                                         Closer  2.591224e+09  \n",
       "48                                         Starboy  2.565530e+09  "
      ]
     },
     "execution_count": 31,
     "metadata": {},
     "output_type": "execute_result"
    }
   ],
   "source": [
    "most_streamed_songs"
   ]
  },
  {
   "cell_type": "markdown",
   "metadata": {},
   "source": [
    "Now lets visualize the most streamed songs data"
   ]
  },
  {
   "cell_type": "code",
   "execution_count": 32,
   "metadata": {},
   "outputs": [
    {
     "data": {
      "image/png": "[encoded data removed]",
      "text/plain": [
       "<Figure size 864x432 with 1 Axes>"
      ]
     },
     "metadata": {
      "needs_background": "light"
     },
     "output_type": "display_data"
    }
   ],
   "source": [
    "plt.figure(figsize=(12, 6))\n",
    "sns.barplot(x=most_streamed_songs['streams'], y=most_streamed_songs['track_name'], palette='viridis')\n",
    "plt.xlabel=('Number of Songs')  \n",
    "plt.ylabel=('Top Artists')\n",
    "plt.title=('Top 10 Artists with Most Songs')\n",
    "plt.show()"
   ]
  },
  {
   "cell_type": "markdown",
   "metadata": {},
   "source": [
    "From the Graph we can see that the song 'Blinding Lights' by 'The Weekend' is the most streamed song"
   ]
  },
  {
   "cell_type": "markdown",
   "metadata": {},
   "source": [
    "We have also identified that there is an error for one record in the streams so we will remove it from the data frame"
   ]
  },
  {
   "cell_type": "code",
   "execution_count": 33,
   "metadata": {},
   "outputs": [],
   "source": [
    "incorrect_value = spotify_df.iloc[574]"
   ]
  },
  {
   "cell_type": "code",
   "execution_count": 34,
   "metadata": {},
   "outputs": [
    {
     "data": {
      "text/plain": [
       "track_name              Love Grows (Where My Rosemary Goes)\n",
       "artist(s)_name                            Edison Lighthouse\n",
       "artist_count                                              1\n",
       "released_year                                          1970\n",
       "released_month                                            1\n",
       "released_day                                              1\n",
       "in_spotify_playlists                                   2877\n",
       "in_spotify_charts                                         0\n",
       "streams                                                 NaN\n",
       "in_apple_playlists                                       16\n",
       "in_apple_charts                                           0\n",
       "in_deezer_playlists                                      54\n",
       "in_deezer_charts                                          0\n",
       "in_shazam_charts                                          0\n",
       "bpm                                                     110\n",
       "key                                                       A\n",
       "mode                                                  Major\n",
       "danceability_%                                           53\n",
       "valence_%                                                75\n",
       "energy_%                                                 69\n",
       "acousticness_%                                            7\n",
       "instrumentalness_%                                        0\n",
       "liveness_%                                               17\n",
       "speechiness_%                                             3\n",
       "Name: 574, dtype: object"
      ]
     },
     "execution_count": 34,
     "metadata": {},
     "output_type": "execute_result"
    }
   ],
   "source": [
    "incorrect_value"
   ]
  },
  {
   "cell_type": "code",
   "execution_count": 35,
   "metadata": {},
   "outputs": [],
   "source": [
    "spotify_df= spotify_df.dropna()"
   ]
  },
  {
   "cell_type": "code",
   "execution_count": 36,
   "metadata": {},
   "outputs": [],
   "source": [
    "to_drop = ['BPM110KeyAModeMajorDanceability53Valence75Energy69Acousticness7Instrumentalness0Liveness17Speechiness3']\n",
    "spotify_df = spotify_df[~spotify_df['streams'].isin(to_drop)]"
   ]
  },
  {
   "cell_type": "markdown",
   "metadata": {},
   "source": [
    "We removed the row with the incorrect value now we can use this for further analysis"
   ]
  },
  {
   "cell_type": "code",
   "execution_count": null,
   "metadata": {},
   "outputs": [],
   "source": []
  },
  {
   "cell_type": "code",
   "execution_count": 37,
   "metadata": {},
   "outputs": [
    {
     "data": {
      "text/plain": [
       "track_name              0\n",
       "artist(s)_name          0\n",
       "artist_count            0\n",
       "released_year           0\n",
       "released_month          0\n",
       "released_day            0\n",
       "in_spotify_playlists    0\n",
       "in_spotify_charts       0\n",
       "streams                 0\n",
       "in_apple_playlists      0\n",
       "in_apple_charts         0\n",
       "in_deezer_playlists     0\n",
       "in_deezer_charts        0\n",
       "in_shazam_charts        0\n",
       "bpm                     0\n",
       "key                     0\n",
       "mode                    0\n",
       "danceability_%          0\n",
       "valence_%               0\n",
       "energy_%                0\n",
       "acousticness_%          0\n",
       "instrumentalness_%      0\n",
       "liveness_%              0\n",
       "speechiness_%           0\n",
       "dtype: int64"
      ]
     },
     "execution_count": 37,
     "metadata": {},
     "output_type": "execute_result"
    }
   ],
   "source": [
    "spotify_df.isnull().sum()"
   ]
  },
  {
   "cell_type": "markdown",
   "metadata": {},
   "source": [
    "#### Now lets explore which are the top songs of all time in apple music charts."
   ]
  },
  {
   "cell_type": "code",
   "execution_count": 38,
   "metadata": {},
   "outputs": [],
   "source": [
    "top_applemusic_songs=spotify_df[['artist(s)_name','track_name','in_apple_playlists']].sort_values(by='in_apple_playlists',ascending = False).head(10)"
   ]
  },
  {
   "cell_type": "code",
   "execution_count": 39,
   "metadata": {},
   "outputs": [
    {
     "data": {
      "text/html": [
       "<div>\n",
       "<style scoped>\n",
       "    .dataframe tbody tr th:only-of-type {\n",
       "        vertical-align: middle;\n",
       "    }\n",
       "\n",
       "    .dataframe tbody tr th {\n",
       "        vertical-align: top;\n",
       "    }\n",
       "\n",
       "    .dataframe thead th {\n",
       "        text-align: right;\n",
       "    }\n",
       "</style>\n",
       "<table border=\"1\" class=\"dataframe\">\n",
       "  <thead>\n",
       "    <tr style=\"text-align: right;\">\n",
       "      <th></th>\n",
       "      <th>artist(s)_name</th>\n",
       "      <th>track_name</th>\n",
       "      <th>in_apple_playlists</th>\n",
       "    </tr>\n",
       "  </thead>\n",
       "  <tbody>\n",
       "    <tr>\n",
       "      <th>55</th>\n",
       "      <td>The Weeknd</td>\n",
       "      <td>Blinding Lights</td>\n",
       "      <td>672</td>\n",
       "    </tr>\n",
       "    <tr>\n",
       "      <th>403</th>\n",
       "      <td>Calvin Harris, Dua Lipa</td>\n",
       "      <td>One Kiss (with Dua Lipa)</td>\n",
       "      <td>537</td>\n",
       "    </tr>\n",
       "    <tr>\n",
       "      <th>620</th>\n",
       "      <td>Tones and I</td>\n",
       "      <td>Dance Monkey</td>\n",
       "      <td>533</td>\n",
       "    </tr>\n",
       "    <tr>\n",
       "      <th>407</th>\n",
       "      <td>Dua Lipa</td>\n",
       "      <td>Don't Start Now</td>\n",
       "      <td>532</td>\n",
       "    </tr>\n",
       "    <tr>\n",
       "      <th>84</th>\n",
       "      <td>Justin Bieber, The Kid Laroi</td>\n",
       "      <td>STAY (with Justin Bieber)</td>\n",
       "      <td>492</td>\n",
       "    </tr>\n",
       "    <tr>\n",
       "      <th>693</th>\n",
       "      <td>Shawn Mendes, Camila Cabello</td>\n",
       "      <td>Seï¿½ï¿½o</td>\n",
       "      <td>453</td>\n",
       "    </tr>\n",
       "    <tr>\n",
       "      <th>86</th>\n",
       "      <td>Lewis Capaldi</td>\n",
       "      <td>Someone You Loved</td>\n",
       "      <td>440</td>\n",
       "    </tr>\n",
       "    <tr>\n",
       "      <th>127</th>\n",
       "      <td>Harry Styles</td>\n",
       "      <td>Watermelon Sugar</td>\n",
       "      <td>437</td>\n",
       "    </tr>\n",
       "    <tr>\n",
       "      <th>162</th>\n",
       "      <td>Drake, WizKid, Kyla</td>\n",
       "      <td>One Dance</td>\n",
       "      <td>433</td>\n",
       "    </tr>\n",
       "    <tr>\n",
       "      <th>14</th>\n",
       "      <td>Harry Styles</td>\n",
       "      <td>As It Was</td>\n",
       "      <td>403</td>\n",
       "    </tr>\n",
       "  </tbody>\n",
       "</table>\n",
       "</div>"
      ],
      "text/plain": [
       "                   artist(s)_name                 track_name  \\\n",
       "55                     The Weeknd            Blinding Lights   \n",
       "403       Calvin Harris, Dua Lipa   One Kiss (with Dua Lipa)   \n",
       "620                   Tones and I               Dance Monkey   \n",
       "407                      Dua Lipa            Don't Start Now   \n",
       "84   Justin Bieber, The Kid Laroi  STAY (with Justin Bieber)   \n",
       "693  Shawn Mendes, Camila Cabello                  Seï¿½ï¿½o   \n",
       "86                  Lewis Capaldi          Someone You Loved   \n",
       "127                  Harry Styles           Watermelon Sugar   \n",
       "162           Drake, WizKid, Kyla                  One Dance   \n",
       "14                   Harry Styles                  As It Was   \n",
       "\n",
       "     in_apple_playlists  \n",
       "55                  672  \n",
       "403                 537  \n",
       "620                 533  \n",
       "407                 532  \n",
       "84                  492  \n",
       "693                 453  \n",
       "86                  440  \n",
       "127                 437  \n",
       "162                 433  \n",
       "14                  403  "
      ]
     },
     "execution_count": 39,
     "metadata": {},
     "output_type": "execute_result"
    }
   ],
   "source": [
    "top_applemusic_songs"
   ]
  },
  {
   "cell_type": "markdown",
   "metadata": {},
   "source": [
    "Now lets visualize the data"
   ]
  },
  {
   "cell_type": "code",
   "execution_count": 40,
   "metadata": {},
   "outputs": [
    {
     "data": {
      "image/png": "[encoded data removed]",
      "text/plain": [
       "<Figure size 864x432 with 1 Axes>"
      ]
     },
     "metadata": {
      "needs_background": "light"
     },
     "output_type": "display_data"
    }
   ],
   "source": [
    "plt.figure(figsize=(12,6))\n",
    "sns.barplot(x=top_applemusic_songs['in_apple_playlists'],y=top_applemusic_songs['track_name'], palette = 'viridis')\n",
    "plt.title=('top songs by apple playlist')"
   ]
  },
  {
   "cell_type": "markdown",
   "metadata": {},
   "source": [
    "#### Now lets see the top songs released in the the year 2023"
   ]
  },
  {
   "cell_type": "code",
   "execution_count": 41,
   "metadata": {},
   "outputs": [],
   "source": [
    "top_songs_2023 = spotify_df[['artist(s)_name','track_name','streams','released_year']].sort_values(by=['released_year','streams'], ascending=False).head(10)"
   ]
  },
  {
   "cell_type": "code",
   "execution_count": 42,
   "metadata": {},
   "outputs": [
    {
     "data": {
      "text/html": [
       "<div>\n",
       "<style scoped>\n",
       "    .dataframe tbody tr th:only-of-type {\n",
       "        vertical-align: middle;\n",
       "    }\n",
       "\n",
       "    .dataframe tbody tr th {\n",
       "        vertical-align: top;\n",
       "    }\n",
       "\n",
       "    .dataframe thead th {\n",
       "        text-align: right;\n",
       "    }\n",
       "</style>\n",
       "<table border=\"1\" class=\"dataframe\">\n",
       "  <thead>\n",
       "    <tr style=\"text-align: right;\">\n",
       "      <th></th>\n",
       "      <th>artist(s)_name</th>\n",
       "      <th>track_name</th>\n",
       "      <th>streams</th>\n",
       "      <th>released_year</th>\n",
       "    </tr>\n",
       "  </thead>\n",
       "  <tbody>\n",
       "    <tr>\n",
       "      <th>12</th>\n",
       "      <td>Miley Cyrus</td>\n",
       "      <td>Flowers</td>\n",
       "      <td>1.316856e+09</td>\n",
       "      <td>2023</td>\n",
       "    </tr>\n",
       "    <tr>\n",
       "      <th>6</th>\n",
       "      <td>Eslabon Armado, Peso Pluma</td>\n",
       "      <td>Ella Baila Sola</td>\n",
       "      <td>7.259801e+08</td>\n",
       "      <td>2023</td>\n",
       "    </tr>\n",
       "    <tr>\n",
       "      <th>133</th>\n",
       "      <td>Shakira, Bizarrap</td>\n",
       "      <td>Shakira: Bzrp Music Sessions, Vol. 53</td>\n",
       "      <td>7.219756e+08</td>\n",
       "      <td>2023</td>\n",
       "    </tr>\n",
       "    <tr>\n",
       "      <th>34</th>\n",
       "      <td>Karol G, Shakira</td>\n",
       "      <td>TQG</td>\n",
       "      <td>6.189904e+08</td>\n",
       "      <td>2023</td>\n",
       "    </tr>\n",
       "    <tr>\n",
       "      <th>9</th>\n",
       "      <td>Peso Pluma, Yng Lvcas</td>\n",
       "      <td>La Bebe - Remix</td>\n",
       "      <td>5.536341e+08</td>\n",
       "      <td>2023</td>\n",
       "    </tr>\n",
       "    <tr>\n",
       "      <th>49</th>\n",
       "      <td>Ariana Grande, The Weeknd</td>\n",
       "      <td>Die For You - Remix</td>\n",
       "      <td>5.187451e+08</td>\n",
       "      <td>2023</td>\n",
       "    </tr>\n",
       "    <tr>\n",
       "      <th>10</th>\n",
       "      <td>Bad Bunny, Grupo Frontera</td>\n",
       "      <td>un x100to</td>\n",
       "      <td>5.056714e+08</td>\n",
       "      <td>2023</td>\n",
       "    </tr>\n",
       "    <tr>\n",
       "      <th>16</th>\n",
       "      <td>Fifty Fifty</td>\n",
       "      <td>Cupid - Twin Ver.</td>\n",
       "      <td>4.967957e+08</td>\n",
       "      <td>2023</td>\n",
       "    </tr>\n",
       "    <tr>\n",
       "      <th>160</th>\n",
       "      <td>Natanael Cano, Peso Pluma</td>\n",
       "      <td>PRC</td>\n",
       "      <td>4.360279e+08</td>\n",
       "      <td>2023</td>\n",
       "    </tr>\n",
       "    <tr>\n",
       "      <th>131</th>\n",
       "      <td>NewJeans</td>\n",
       "      <td>OMG</td>\n",
       "      <td>4.309775e+08</td>\n",
       "      <td>2023</td>\n",
       "    </tr>\n",
       "  </tbody>\n",
       "</table>\n",
       "</div>"
      ],
      "text/plain": [
       "                 artist(s)_name                             track_name  \\\n",
       "12                  Miley Cyrus                                Flowers   \n",
       "6    Eslabon Armado, Peso Pluma                        Ella Baila Sola   \n",
       "133           Shakira, Bizarrap  Shakira: Bzrp Music Sessions, Vol. 53   \n",
       "34             Karol G, Shakira                                    TQG   \n",
       "9         Peso Pluma, Yng Lvcas                        La Bebe - Remix   \n",
       "49    Ariana Grande, The Weeknd                    Die For You - Remix   \n",
       "10    Bad Bunny, Grupo Frontera                              un x100to   \n",
       "16                  Fifty Fifty                      Cupid - Twin Ver.   \n",
       "160   Natanael Cano, Peso Pluma                                    PRC   \n",
       "131                    NewJeans                                    OMG   \n",
       "\n",
       "          streams  released_year  \n",
       "12   1.316856e+09           2023  \n",
       "6    7.259801e+08           2023  \n",
       "133  7.219756e+08           2023  \n",
       "34   6.189904e+08           2023  \n",
       "9    5.536341e+08           2023  \n",
       "49   5.187451e+08           2023  \n",
       "10   5.056714e+08           2023  \n",
       "16   4.967957e+08           2023  \n",
       "160  4.360279e+08           2023  \n",
       "131  4.309775e+08           2023  "
      ]
     },
     "execution_count": 42,
     "metadata": {},
     "output_type": "execute_result"
    }
   ],
   "source": [
    "top_songs_2023"
   ]
  },
  {
   "cell_type": "code",
   "execution_count": 43,
   "metadata": {},
   "outputs": [
    {
     "data": {
      "image/png": "[encoded data removed]",
      "text/plain": [
       "<Figure size 864x432 with 1 Axes>"
      ]
     },
     "metadata": {
      "needs_background": "light"
     },
     "output_type": "display_data"
    }
   ],
   "source": [
    "plt.figure(figsize=(12,6))\n",
    "sns.barplot(x=top_songs_2023['streams'],y=top_songs_2023['track_name'], palette = 'viridis')\n",
    "plt.title =('top songs by apple playlist')"
   ]
  },
  {
   "cell_type": "markdown",
   "metadata": {},
   "source": [
    "From the graph we can see that song 'Flowers' by 'Miley Cyrus' is the most streamed song from all the songs released in the year 2023"
   ]
  },
  {
   "cell_type": "markdown",
   "metadata": {},
   "source": [
    "#### Now lets check the trend of audio features over the years"
   ]
  },
  {
   "cell_type": "code",
   "execution_count": 44,
   "metadata": {
    "code_folding": []
   },
   "outputs": [
    {
     "data": {
      "image/png": "[encoded data removed]",
      "text/plain": [
       "<Figure size 864x864 with 6 Axes>"
      ]
     },
     "metadata": {
      "needs_background": "light"
     },
     "output_type": "display_data"
    }
   ],
   "source": [
    "audio_features = ['danceability_%', 'valence_%', 'energy_%', 'acousticness_%', 'liveness_%', 'speechiness_%']\n",
    "audio_features_by_year = spotify_df.groupby('released_year')[audio_features].mean().reset_index()\n",
    "\n",
    "plt.figure(figsize=(12, 12))\n",
    "\n",
    "for i, feature in enumerate(audio_features, start=1):\n",
    "    plt.subplot(3, 2, i)  # 3 rows, 2 columns of subplots\n",
    "    sns.lineplot(data=audio_features_by_year, x='released_year', y=feature)\n",
    "    plt.grid(True)\n",
    "\n",
    "plt.tight_layout()\n",
    "plt.show()"
   ]
  },
  {
   "cell_type": "markdown",
   "metadata": {},
   "source": [
    "This shows the trend of audio features over the past years. This shows\n",
    "1. The energy_% has been increased over past few years\n",
    "2. The acousticness_% has been decreased over past few years\n",
    "3. the speechiness_% has been increased over past few years\n",
    "4. Most of the songs has high danceabilty_% after the year 2000"
   ]
  },
  {
   "cell_type": "markdown",
   "metadata": {},
   "source": [
    "#### Now lets analyze the correlation between charts and playlists of multiple platforms"
   ]
  },
  {
   "cell_type": "markdown",
   "metadata": {},
   "source": [
    "First selecting the columns for cross platform analytics"
   ]
  },
  {
   "cell_type": "code",
   "execution_count": 45,
   "metadata": {},
   "outputs": [
    {
     "data": {
      "text/plain": [
       "Index(['track_name', 'artist(s)_name', 'artist_count', 'released_year',\n",
       "       'released_month', 'released_day', 'in_spotify_playlists',\n",
       "       'in_spotify_charts', 'streams', 'in_apple_playlists', 'in_apple_charts',\n",
       "       'in_deezer_playlists', 'in_deezer_charts', 'in_shazam_charts', 'bpm',\n",
       "       'key', 'mode', 'danceability_%', 'valence_%', 'energy_%',\n",
       "       'acousticness_%', 'instrumentalness_%', 'liveness_%', 'speechiness_%'],\n",
       "      dtype='object')"
      ]
     },
     "execution_count": 45,
     "metadata": {},
     "output_type": "execute_result"
    }
   ],
   "source": [
    "spotify_df.columns"
   ]
  },
  {
   "cell_type": "code",
   "execution_count": 46,
   "metadata": {},
   "outputs": [],
   "source": [
    "cross_platform_columns =['in_spotify_playlists','in_spotify_charts','in_apple_playlists','in_apple_charts'\n",
    "                                    ,'in_deezer_playlists','in_deezer_charts','in_shazam_charts']"
   ]
  },
  {
   "cell_type": "markdown",
   "metadata": {},
   "source": [
    "Now plotting the correlation heatmap with seaborn"
   ]
  },
  {
   "cell_type": "code",
   "execution_count": 47,
   "metadata": {},
   "outputs": [
    {
     "data": {
      "text/plain": [
       "<AxesSubplot:>"
      ]
     },
     "execution_count": 47,
     "metadata": {},
     "output_type": "execute_result"
    },
    {
     "data": {
      "image/png": "[encoded data removed]",
      "text/plain": [
       "<Figure size 648x360 with 2 Axes>"
      ]
     },
     "metadata": {
      "needs_background": "light"
     },
     "output_type": "display_data"
    }
   ],
   "source": [
    "correlation_matrix = spotify_df[cross_platform_columns].corr()\n",
    "\n",
    "sns.heatmap(correlation_matrix,annot=True, cmap='coolwarm', center = 0)"
   ]
  },
  {
   "cell_type": "markdown",
   "metadata": {},
   "source": [
    "The heatmap shows the spotify playlist and apple playlists are highly corelated and \n",
    "spotify charts and apple music charts & apple charts and apple playlists are also minutely correlated "
   ]
  },
  {
   "cell_type": "markdown",
   "metadata": {},
   "source": [
    "Let us save and upload our work to Jovian before continuing"
   ]
  },
  {
   "cell_type": "code",
   "execution_count": 48,
   "metadata": {},
   "outputs": [],
   "source": [
    "import jovian"
   ]
  },
  {
   "cell_type": "code",
   "execution_count": 49,
   "metadata": {},
   "outputs": [
    {
     "data": {
      "application/javascript": [
       "window.require && require([\"base/js/namespace\"],function(Jupyter){Jupyter.notebook.save_checkpoint()})"
      ],
      "text/plain": [
       "<IPython.core.display.Javascript object>"
      ]
     },
     "metadata": {},
     "output_type": "display_data"
    },
    {
     "name": "stdout",
     "output_type": "stream",
     "text": [
      "[jovian] Updating notebook \"manavarora3052001/spotify-songs-eda\" on https://jovian.com\u001b[0m\n",
      "[jovian] Committed successfully! https://jovian.com/manavarora3052001/spotify-songs-eda\u001b[0m\n"
     ]
    },
    {
     "data": {
      "text/plain": [
       "'https://jovian.com/manavarora3052001/spotify-songs-eda'"
      ]
     },
     "execution_count": 49,
     "metadata": {},
     "output_type": "execute_result"
    }
   ],
   "source": [
    "jovian.commit()"
   ]
  },
  {
   "cell_type": "markdown",
   "metadata": {},
   "source": [
    "## Asking and Answering Questions\n",
    "\n",
    "\n",
    "\n"
   ]
  },
  {
   "cell_type": "markdown",
   "metadata": {},
   "source": [
    "#### Q1: What are the top artists with most number of total streams "
   ]
  },
  {
   "cell_type": "code",
   "execution_count": 50,
   "metadata": {},
   "outputs": [],
   "source": [
    "top_artitst_df=spotify_df.groupby('artist(s)_name')['streams'].sum().to_frame().reset_index()"
   ]
  },
  {
   "cell_type": "code",
   "execution_count": 51,
   "metadata": {},
   "outputs": [],
   "source": [
    "top_artitst_df = top_artitst_df.sort_values(by='streams', ascending=False).head(10)"
   ]
  },
  {
   "cell_type": "code",
   "execution_count": 52,
   "metadata": {},
   "outputs": [
    {
     "data": {
      "text/html": [
       "<div>\n",
       "<style scoped>\n",
       "    .dataframe tbody tr th:only-of-type {\n",
       "        vertical-align: middle;\n",
       "    }\n",
       "\n",
       "    .dataframe tbody tr th {\n",
       "        vertical-align: top;\n",
       "    }\n",
       "\n",
       "    .dataframe thead th {\n",
       "        text-align: right;\n",
       "    }\n",
       "</style>\n",
       "<table border=\"1\" class=\"dataframe\">\n",
       "  <thead>\n",
       "    <tr style=\"text-align: right;\">\n",
       "      <th></th>\n",
       "      <th>artist(s)_name</th>\n",
       "      <th>streams</th>\n",
       "    </tr>\n",
       "  </thead>\n",
       "  <tbody>\n",
       "    <tr>\n",
       "      <th>571</th>\n",
       "      <td>The Weeknd</td>\n",
       "      <td>1.418555e+10</td>\n",
       "    </tr>\n",
       "    <tr>\n",
       "      <th>557</th>\n",
       "      <td>Taylor Swift</td>\n",
       "      <td>1.405366e+10</td>\n",
       "    </tr>\n",
       "    <tr>\n",
       "      <th>159</th>\n",
       "      <td>Ed Sheeran</td>\n",
       "      <td>1.390895e+10</td>\n",
       "    </tr>\n",
       "    <tr>\n",
       "      <th>222</th>\n",
       "      <td>Harry Styles</td>\n",
       "      <td>1.160865e+10</td>\n",
       "    </tr>\n",
       "    <tr>\n",
       "      <th>43</th>\n",
       "      <td>Bad Bunny</td>\n",
       "      <td>9.997800e+09</td>\n",
       "    </tr>\n",
       "    <tr>\n",
       "      <th>430</th>\n",
       "      <td>Olivia Rodrigo</td>\n",
       "      <td>7.442149e+09</td>\n",
       "    </tr>\n",
       "    <tr>\n",
       "      <th>170</th>\n",
       "      <td>Eminem</td>\n",
       "      <td>6.183806e+09</td>\n",
       "    </tr>\n",
       "    <tr>\n",
       "      <th>75</th>\n",
       "      <td>Bruno Mars</td>\n",
       "      <td>5.846921e+09</td>\n",
       "    </tr>\n",
       "    <tr>\n",
       "      <th>25</th>\n",
       "      <td>Arctic Monkeys</td>\n",
       "      <td>5.569807e+09</td>\n",
       "    </tr>\n",
       "    <tr>\n",
       "      <th>228</th>\n",
       "      <td>Imagine Dragons</td>\n",
       "      <td>5.272485e+09</td>\n",
       "    </tr>\n",
       "  </tbody>\n",
       "</table>\n",
       "</div>"
      ],
      "text/plain": [
       "      artist(s)_name       streams\n",
       "571       The Weeknd  1.418555e+10\n",
       "557     Taylor Swift  1.405366e+10\n",
       "159       Ed Sheeran  1.390895e+10\n",
       "222     Harry Styles  1.160865e+10\n",
       "43         Bad Bunny  9.997800e+09\n",
       "430   Olivia Rodrigo  7.442149e+09\n",
       "170           Eminem  6.183806e+09\n",
       "75        Bruno Mars  5.846921e+09\n",
       "25    Arctic Monkeys  5.569807e+09\n",
       "228  Imagine Dragons  5.272485e+09"
      ]
     },
     "execution_count": 52,
     "metadata": {},
     "output_type": "execute_result"
    }
   ],
   "source": [
    "top_artitst_df"
   ]
  },
  {
   "cell_type": "code",
   "execution_count": 53,
   "metadata": {
    "scrolled": true
   },
   "outputs": [
    {
     "data": {
      "text/plain": [
       "<AxesSubplot:xlabel='streams', ylabel='artist(s)_name'>"
      ]
     },
     "execution_count": 53,
     "metadata": {},
     "output_type": "execute_result"
    },
    {
     "data": {
      "image/png": "[encoded data removed]",
      "text/plain": [
       "<Figure size 864x576 with 1 Axes>"
      ]
     },
     "metadata": {
      "needs_background": "light"
     },
     "output_type": "display_data"
    }
   ],
   "source": [
    "top_artitst_df.sort_values(by='streams',ascending= False)\n",
    "plt.figure(figsize=(12,8))\n",
    "sns.barplot(x='streams',y='artist(s)_name',data=top_artitst_df,palette = 'viridis')\n"
   ]
  },
  {
   "cell_type": "markdown",
   "metadata": {},
   "source": [
    "With the graph we can see that 'The Weekend' is the most popular artist with total streams of nearly 14 billion"
   ]
  },
  {
   "cell_type": "markdown",
   "metadata": {},
   "source": [
    "#### Q2: -  What are the number of tracks released per year?\n"
   ]
  },
  {
   "cell_type": "code",
   "execution_count": 54,
   "metadata": {},
   "outputs": [],
   "source": [
    "year= spotify_df.groupby(['released_year'])['released_year'].count().reset_index(name = 'count').sort_values(['count'], ascending=False).head(15)"
   ]
  },
  {
   "cell_type": "code",
   "execution_count": 55,
   "metadata": {},
   "outputs": [
    {
     "data": {
      "text/html": [
       "<div>\n",
       "<style scoped>\n",
       "    .dataframe tbody tr th:only-of-type {\n",
       "        vertical-align: middle;\n",
       "    }\n",
       "\n",
       "    .dataframe tbody tr th {\n",
       "        vertical-align: top;\n",
       "    }\n",
       "\n",
       "    .dataframe thead th {\n",
       "        text-align: right;\n",
       "    }\n",
       "</style>\n",
       "<table border=\"1\" class=\"dataframe\">\n",
       "  <thead>\n",
       "    <tr style=\"text-align: right;\">\n",
       "      <th></th>\n",
       "      <th>released_year</th>\n",
       "      <th>count</th>\n",
       "    </tr>\n",
       "  </thead>\n",
       "  <tbody>\n",
       "    <tr>\n",
       "      <th>48</th>\n",
       "      <td>2022</td>\n",
       "      <td>402</td>\n",
       "    </tr>\n",
       "    <tr>\n",
       "      <th>49</th>\n",
       "      <td>2023</td>\n",
       "      <td>175</td>\n",
       "    </tr>\n",
       "    <tr>\n",
       "      <th>47</th>\n",
       "      <td>2021</td>\n",
       "      <td>119</td>\n",
       "    </tr>\n",
       "    <tr>\n",
       "      <th>46</th>\n",
       "      <td>2020</td>\n",
       "      <td>37</td>\n",
       "    </tr>\n",
       "    <tr>\n",
       "      <th>45</th>\n",
       "      <td>2019</td>\n",
       "      <td>36</td>\n",
       "    </tr>\n",
       "    <tr>\n",
       "      <th>43</th>\n",
       "      <td>2017</td>\n",
       "      <td>23</td>\n",
       "    </tr>\n",
       "    <tr>\n",
       "      <th>42</th>\n",
       "      <td>2016</td>\n",
       "      <td>18</td>\n",
       "    </tr>\n",
       "    <tr>\n",
       "      <th>39</th>\n",
       "      <td>2013</td>\n",
       "      <td>13</td>\n",
       "    </tr>\n",
       "    <tr>\n",
       "      <th>40</th>\n",
       "      <td>2014</td>\n",
       "      <td>13</td>\n",
       "    </tr>\n",
       "    <tr>\n",
       "      <th>41</th>\n",
       "      <td>2015</td>\n",
       "      <td>11</td>\n",
       "    </tr>\n",
       "    <tr>\n",
       "      <th>44</th>\n",
       "      <td>2018</td>\n",
       "      <td>10</td>\n",
       "    </tr>\n",
       "    <tr>\n",
       "      <th>37</th>\n",
       "      <td>2011</td>\n",
       "      <td>10</td>\n",
       "    </tr>\n",
       "    <tr>\n",
       "      <th>38</th>\n",
       "      <td>2012</td>\n",
       "      <td>10</td>\n",
       "    </tr>\n",
       "    <tr>\n",
       "      <th>36</th>\n",
       "      <td>2010</td>\n",
       "      <td>7</td>\n",
       "    </tr>\n",
       "    <tr>\n",
       "      <th>30</th>\n",
       "      <td>2002</td>\n",
       "      <td>6</td>\n",
       "    </tr>\n",
       "  </tbody>\n",
       "</table>\n",
       "</div>"
      ],
      "text/plain": [
       "    released_year  count\n",
       "48           2022    402\n",
       "49           2023    175\n",
       "47           2021    119\n",
       "46           2020     37\n",
       "45           2019     36\n",
       "43           2017     23\n",
       "42           2016     18\n",
       "39           2013     13\n",
       "40           2014     13\n",
       "41           2015     11\n",
       "44           2018     10\n",
       "37           2011     10\n",
       "38           2012     10\n",
       "36           2010      7\n",
       "30           2002      6"
      ]
     },
     "execution_count": 55,
     "metadata": {},
     "output_type": "execute_result"
    }
   ],
   "source": [
    "year"
   ]
  },
  {
   "cell_type": "code",
   "execution_count": 56,
   "metadata": {},
   "outputs": [
    {
     "data": {
      "text/plain": [
       "<AxesSubplot:xlabel='released_year', ylabel='count'>"
      ]
     },
     "execution_count": 56,
     "metadata": {},
     "output_type": "execute_result"
    },
    {
     "data": {
      "image/png": "[encoded data removed]",
      "text/plain": [
       "<Figure size 1080x360 with 1 Axes>"
      ]
     },
     "metadata": {
      "needs_background": "light"
     },
     "output_type": "display_data"
    }
   ],
   "source": [
    "plt.figure(figsize=(15,5))\n",
    "sns.barplot(x='released_year', y ='count',data =year,palette= 'viridis')"
   ]
  },
  {
   "cell_type": "markdown",
   "metadata": {},
   "source": [
    "After looking at the graph we can infer from it that most of the data is from 2020 to 2023 and most of the tracks in the dataset are released in 2022."
   ]
  },
  {
   "cell_type": "markdown",
   "metadata": {},
   "source": [
    "#### Q3: TODO - What are the top songs in which there are more than one artist who composed it"
   ]
  },
  {
   "cell_type": "code",
   "execution_count": 57,
   "metadata": {},
   "outputs": [],
   "source": [
    "top_songs_2=spotify_df[['track_name','streams','artist_count']][spotify_df['artist_count'] > 1].sort_values(by='streams',ascending=False).head(10)"
   ]
  },
  {
   "cell_type": "code",
   "execution_count": 58,
   "metadata": {},
   "outputs": [
    {
     "data": {
      "text/plain": [
       "<AxesSubplot:xlabel='streams', ylabel='track_name'>"
      ]
     },
     "execution_count": 58,
     "metadata": {},
     "output_type": "execute_result"
    },
    {
     "data": {
      "image/png": "[encoded data removed]",
      "text/plain": [
       "<Figure size 1008x576 with 1 Axes>"
      ]
     },
     "metadata": {
      "needs_background": "light"
     },
     "output_type": "display_data"
    }
   ],
   "source": [
    "plt.figure(figsize=(14,8))\n",
    "sns.barplot(x='streams',y='track_name',data=top_songs_2,palette = 'viridis')"
   ]
  },
  {
   "cell_type": "markdown",
   "metadata": {},
   "source": [
    "These are the top 10 most streamed songs which are composed by more than 1 artist"
   ]
  },
  {
   "cell_type": "markdown",
   "metadata": {},
   "source": [
    "#### Q4:  - What is the Correlation Between Danceability, Valence, and Energy\n"
   ]
  },
  {
   "cell_type": "code",
   "execution_count": 59,
   "metadata": {},
   "outputs": [
    {
     "data": {
      "image/png": "[encoded data removed]",
      "text/plain": [
       "<Figure size 648x360 with 2 Axes>"
      ]
     },
     "metadata": {
      "needs_background": "light"
     },
     "output_type": "display_data"
    }
   ],
   "source": [
    "correlation_matrix = spotify_df[['danceability_%', 'valence_%', 'energy_%']].corr()\n",
    "\n",
    "sns.heatmap(correlation_matrix, annot=True, cmap='coolwarm', fmt=\".2f\", linewidths=0.5)\n",
    "plt.title=('Correlation Between Danceability, Valence, and Energy')"
   ]
  },
  {
   "cell_type": "markdown",
   "metadata": {},
   "source": [
    "This graph shows that these attributes are little bit of a negative correlation between them as correlation coefficent between all of them is less than 0.5\n",
    "  - Correlation between Danceability and Valence: 0.39\n",
    "  - Correlation between Danceability and Energy: 0.16\n",
    "  - Correlation between Valence and Energy: 0.35\n",
    "  "
   ]
  },
  {
   "cell_type": "markdown",
   "metadata": {},
   "source": [
    "#### Q5 We have identified that Weekend is the artist with most number of streams in the dataset now lets identify how many of his songs are in top 100 by streams"
   ]
  },
  {
   "cell_type": "code",
   "execution_count": 60,
   "metadata": {},
   "outputs": [],
   "source": [
    "top_100_songs = spotify_df.sort_values(by='streams', ascending=False).head(100)\n",
    "top_songs_weekend=top_100_songs[top_100_songs['artist(s)_name'] == 'The Weeknd']\n",
    "no_of_taylor_swift_songs=len(top_songs_weekend)"
   ]
  },
  {
   "cell_type": "code",
   "execution_count": 61,
   "metadata": {},
   "outputs": [
    {
     "data": {
      "text/html": [
       "<div>\n",
       "<style scoped>\n",
       "    .dataframe tbody tr th:only-of-type {\n",
       "        vertical-align: middle;\n",
       "    }\n",
       "\n",
       "    .dataframe tbody tr th {\n",
       "        vertical-align: top;\n",
       "    }\n",
       "\n",
       "    .dataframe thead th {\n",
       "        text-align: right;\n",
       "    }\n",
       "</style>\n",
       "<table border=\"1\" class=\"dataframe\">\n",
       "  <thead>\n",
       "    <tr style=\"text-align: right;\">\n",
       "      <th></th>\n",
       "      <th>track_name</th>\n",
       "      <th>artist(s)_name</th>\n",
       "      <th>artist_count</th>\n",
       "      <th>released_year</th>\n",
       "      <th>released_month</th>\n",
       "      <th>released_day</th>\n",
       "      <th>in_spotify_playlists</th>\n",
       "      <th>in_spotify_charts</th>\n",
       "      <th>streams</th>\n",
       "      <th>in_apple_playlists</th>\n",
       "      <th>...</th>\n",
       "      <th>bpm</th>\n",
       "      <th>key</th>\n",
       "      <th>mode</th>\n",
       "      <th>danceability_%</th>\n",
       "      <th>valence_%</th>\n",
       "      <th>energy_%</th>\n",
       "      <th>acousticness_%</th>\n",
       "      <th>instrumentalness_%</th>\n",
       "      <th>liveness_%</th>\n",
       "      <th>speechiness_%</th>\n",
       "    </tr>\n",
       "  </thead>\n",
       "  <tbody>\n",
       "    <tr>\n",
       "      <th>55</th>\n",
       "      <td>Blinding Lights</td>\n",
       "      <td>The Weeknd</td>\n",
       "      <td>1</td>\n",
       "      <td>2019</td>\n",
       "      <td>11</td>\n",
       "      <td>29</td>\n",
       "      <td>43899</td>\n",
       "      <td>69</td>\n",
       "      <td>3.703895e+09</td>\n",
       "      <td>672</td>\n",
       "      <td>...</td>\n",
       "      <td>171</td>\n",
       "      <td>C#</td>\n",
       "      <td>Major</td>\n",
       "      <td>50</td>\n",
       "      <td>38</td>\n",
       "      <td>80</td>\n",
       "      <td>0</td>\n",
       "      <td>0</td>\n",
       "      <td>9</td>\n",
       "      <td>7</td>\n",
       "    </tr>\n",
       "    <tr>\n",
       "      <th>325</th>\n",
       "      <td>The Hills</td>\n",
       "      <td>The Weeknd</td>\n",
       "      <td>1</td>\n",
       "      <td>2015</td>\n",
       "      <td>5</td>\n",
       "      <td>27</td>\n",
       "      <td>25744</td>\n",
       "      <td>4</td>\n",
       "      <td>1.947372e+09</td>\n",
       "      <td>122</td>\n",
       "      <td>...</td>\n",
       "      <td>136</td>\n",
       "      <td>0</td>\n",
       "      <td>Minor</td>\n",
       "      <td>36</td>\n",
       "      <td>12</td>\n",
       "      <td>57</td>\n",
       "      <td>9</td>\n",
       "      <td>0</td>\n",
       "      <td>14</td>\n",
       "      <td>8</td>\n",
       "    </tr>\n",
       "    <tr>\n",
       "      <th>47</th>\n",
       "      <td>Die For You</td>\n",
       "      <td>The Weeknd</td>\n",
       "      <td>1</td>\n",
       "      <td>2016</td>\n",
       "      <td>11</td>\n",
       "      <td>24</td>\n",
       "      <td>2483</td>\n",
       "      <td>59</td>\n",
       "      <td>1.647990e+09</td>\n",
       "      <td>68</td>\n",
       "      <td>...</td>\n",
       "      <td>134</td>\n",
       "      <td>C#</td>\n",
       "      <td>Minor</td>\n",
       "      <td>59</td>\n",
       "      <td>51</td>\n",
       "      <td>52</td>\n",
       "      <td>9</td>\n",
       "      <td>0</td>\n",
       "      <td>15</td>\n",
       "      <td>7</td>\n",
       "    </tr>\n",
       "    <tr>\n",
       "      <th>164</th>\n",
       "      <td>Save Your Tears</td>\n",
       "      <td>The Weeknd</td>\n",
       "      <td>1</td>\n",
       "      <td>2020</td>\n",
       "      <td>3</td>\n",
       "      <td>20</td>\n",
       "      <td>12688</td>\n",
       "      <td>13</td>\n",
       "      <td>1.591224e+09</td>\n",
       "      <td>197</td>\n",
       "      <td>...</td>\n",
       "      <td>118</td>\n",
       "      <td>0</td>\n",
       "      <td>Major</td>\n",
       "      <td>68</td>\n",
       "      <td>61</td>\n",
       "      <td>82</td>\n",
       "      <td>2</td>\n",
       "      <td>0</td>\n",
       "      <td>50</td>\n",
       "      <td>3</td>\n",
       "    </tr>\n",
       "    <tr>\n",
       "      <th>292</th>\n",
       "      <td>Call Out My Name</td>\n",
       "      <td>The Weeknd</td>\n",
       "      <td>1</td>\n",
       "      <td>2018</td>\n",
       "      <td>3</td>\n",
       "      <td>29</td>\n",
       "      <td>11087</td>\n",
       "      <td>6</td>\n",
       "      <td>1.449799e+09</td>\n",
       "      <td>151</td>\n",
       "      <td>...</td>\n",
       "      <td>134</td>\n",
       "      <td>C#</td>\n",
       "      <td>Major</td>\n",
       "      <td>45</td>\n",
       "      <td>17</td>\n",
       "      <td>60</td>\n",
       "      <td>21</td>\n",
       "      <td>0</td>\n",
       "      <td>33</td>\n",
       "      <td>4</td>\n",
       "    </tr>\n",
       "  </tbody>\n",
       "</table>\n",
       "<p>5 rows × 24 columns</p>\n",
       "</div>"
      ],
      "text/plain": [
       "           track_name artist(s)_name  artist_count  released_year  \\\n",
       "55    Blinding Lights     The Weeknd             1           2019   \n",
       "325         The Hills     The Weeknd             1           2015   \n",
       "47        Die For You     The Weeknd             1           2016   \n",
       "164   Save Your Tears     The Weeknd             1           2020   \n",
       "292  Call Out My Name     The Weeknd             1           2018   \n",
       "\n",
       "     released_month  released_day  in_spotify_playlists  in_spotify_charts  \\\n",
       "55               11            29                 43899                 69   \n",
       "325               5            27                 25744                  4   \n",
       "47               11            24                  2483                 59   \n",
       "164               3            20                 12688                 13   \n",
       "292               3            29                 11087                  6   \n",
       "\n",
       "          streams  in_apple_playlists  ...  bpm key   mode danceability_%  \\\n",
       "55   3.703895e+09                 672  ...  171  C#  Major             50   \n",
       "325  1.947372e+09                 122  ...  136   0  Minor             36   \n",
       "47   1.647990e+09                  68  ...  134  C#  Minor             59   \n",
       "164  1.591224e+09                 197  ...  118   0  Major             68   \n",
       "292  1.449799e+09                 151  ...  134  C#  Major             45   \n",
       "\n",
       "     valence_% energy_% acousticness_%  instrumentalness_%  liveness_%  \\\n",
       "55          38       80              0                   0           9   \n",
       "325         12       57              9                   0          14   \n",
       "47          51       52              9                   0          15   \n",
       "164         61       82              2                   0          50   \n",
       "292         17       60             21                   0          33   \n",
       "\n",
       "     speechiness_%  \n",
       "55               7  \n",
       "325              8  \n",
       "47               7  \n",
       "164              3  \n",
       "292              4  \n",
       "\n",
       "[5 rows x 24 columns]"
      ]
     },
     "execution_count": 61,
     "metadata": {},
     "output_type": "execute_result"
    }
   ],
   "source": [
    "top_songs_weekend"
   ]
  },
  {
   "cell_type": "markdown",
   "metadata": {},
   "source": [
    "By looking at the data we can see that there 5 songs of weekend which are in top 100 songs by stream. With this code we can change the name of artist and identify this info for any artist"
   ]
  },
  {
   "cell_type": "markdown",
   "metadata": {},
   "source": [
    "Let us save and upload our work to Jovian before continuing."
   ]
  },
  {
   "cell_type": "code",
   "execution_count": 62,
   "metadata": {},
   "outputs": [],
   "source": [
    "import jovian"
   ]
  },
  {
   "cell_type": "code",
   "execution_count": 63,
   "metadata": {},
   "outputs": [
    {
     "data": {
      "application/javascript": [
       "window.require && require([\"base/js/namespace\"],function(Jupyter){Jupyter.notebook.save_checkpoint()})"
      ],
      "text/plain": [
       "<IPython.core.display.Javascript object>"
      ]
     },
     "metadata": {},
     "output_type": "display_data"
    },
    {
     "name": "stdout",
     "output_type": "stream",
     "text": [
      "[jovian] Updating notebook \"manavarora3052001/spotify-songs-eda\" on https://jovian.com\u001b[0m\n",
      "[jovian] Committed successfully! https://jovian.com/manavarora3052001/spotify-songs-eda\u001b[0m\n"
     ]
    },
    {
     "data": {
      "text/plain": [
       "'https://jovian.com/manavarora3052001/spotify-songs-eda'"
      ]
     },
     "execution_count": 63,
     "metadata": {},
     "output_type": "execute_result"
    }
   ],
   "source": [
    "jovian.commit()"
   ]
  },
  {
   "cell_type": "markdown",
   "metadata": {},
   "source": [
    "## Inferences and Conclusion\n",
    "\n",
    "  - Overall we can see the trends in music have changed from past years people are more likely to love song which has more beats     and more energy % into it.\n",
    "  - There is a positive correlation between the number of Spotify playlists and total streams.\n",
    "  - The Weekend is the artist with most number of total streams\n",
    "  - Correlation between Danceability and Valence: 0.39\n",
    "  - Correlation between Danceability and Energy: 0.16\n",
    "  - Correlation between Valence and Energy: 0.35\n",
    "  - Song 'Sunflower' is most popular song among the songs which is composed by more than single artist"
   ]
  },
  {
   "cell_type": "code",
   "execution_count": 64,
   "metadata": {},
   "outputs": [],
   "source": [
    "import jovian"
   ]
  },
  {
   "cell_type": "code",
   "execution_count": 65,
   "metadata": {
    "scrolled": true
   },
   "outputs": [
    {
     "data": {
      "application/javascript": [
       "window.require && require([\"base/js/namespace\"],function(Jupyter){Jupyter.notebook.save_checkpoint()})"
      ],
      "text/plain": [
       "<IPython.core.display.Javascript object>"
      ]
     },
     "metadata": {},
     "output_type": "display_data"
    },
    {
     "name": "stdout",
     "output_type": "stream",
     "text": [
      "[jovian] Updating notebook \"manavarora3052001/spotify-songs-eda\" on https://jovian.com\u001b[0m\n",
      "[jovian] Committed successfully! https://jovian.com/manavarora3052001/spotify-songs-eda\u001b[0m\n"
     ]
    },
    {
     "data": {
      "text/plain": [
       "'https://jovian.com/manavarora3052001/spotify-songs-eda'"
      ]
     },
     "execution_count": 65,
     "metadata": {},
     "output_type": "execute_result"
    }
   ],
   "source": [
    "jovian.commit()"
   ]
  },
  {
   "cell_type": "code",
   "execution_count": null,
   "metadata": {},
   "outputs": [],
   "source": []
  },
  {
   "cell_type": "markdown",
   "metadata": {},
   "source": [
    "## References and Future Work\n",
    "\n",
    "Refrence Notebook - https://www.kaggle.com/code/sheikhahmednoor/most-streamed-spotify-songs-2023-eda/notebook\n",
    "\n",
    "This Dataset can be used for a lot of purposes and I have barely managed to scratch its surface\n",
    "Some other uses for the dataset could be-\n",
    "\n",
    "\n",
    "\n",
    "\n",
    "1.Using the beats per minute (bpm), energy%,dancebility % to identify the average ratio between these and can be useful to for music artist to know how his song should be composed so that it could get famous.\n",
    "\n",
    "2. We can also identify the yearly trends of streams with this dataset which will let us know how people have changed towards music in the past years\n",
    "\n",
    "3 We can also identify the most used key in the top 100 most streamed songs to study music taste of audience"
   ]
  },
  {
   "cell_type": "code",
   "execution_count": 66,
   "metadata": {},
   "outputs": [],
   "source": [
    "import jovian"
   ]
  },
  {
   "cell_type": "code",
   "execution_count": 67,
   "metadata": {
    "scrolled": true
   },
   "outputs": [
    {
     "data": {
      "application/javascript": [
       "window.require && require([\"base/js/namespace\"],function(Jupyter){Jupyter.notebook.save_checkpoint()})"
      ],
      "text/plain": [
       "<IPython.core.display.Javascript object>"
      ]
     },
     "metadata": {},
     "output_type": "display_data"
    },
    {
     "name": "stdout",
     "output_type": "stream",
     "text": [
      "[jovian] Updating notebook \"manavarora3052001/spotify-songs-eda\" on https://jovian.com\u001b[0m\n",
      "[jovian] Committed successfully! https://jovian.com/manavarora3052001/spotify-songs-eda\u001b[0m\n"
     ]
    },
    {
     "data": {
      "text/plain": [
       "'https://jovian.com/manavarora3052001/spotify-songs-eda'"
      ]
     },
     "execution_count": 67,
     "metadata": {},
     "output_type": "execute_result"
    }
   ],
   "source": [
    "jovian.commit()"
   ]
  },
  {
   "cell_type": "code",
   "execution_count": null,
   "metadata": {},
   "outputs": [],
   "source": []
  }
 ],
 "metadata": {
  "language_info": {
   "codemirror_mode": {
    "name": "ipython",
    "version": 3
   },
   "file_extension": ".py",
   "mimetype": "text/x-python",
   "name": "python",
   "nbconvert_exporter": "python",
   "pygments_lexer": "ipython3",
   "version": "3.9.7"
  }
 },
 "nbformat": 4,
 "nbformat_minor": 4
}